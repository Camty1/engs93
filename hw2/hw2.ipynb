{
  "cells": [
    {
      "cell_type": "markdown",
      "metadata": {
        "id": "24mR_4Rz-zQC"
      },
      "source": [
        "# ENGS 93 HW 3\n",
        "## Cameron Wolfe 1/31/24"
      ]
    },
    {
      "cell_type": "code",
      "execution_count": 7,
      "metadata": {
        "id": "6gprghEI-6aY"
      },
      "outputs": [],
      "source": [
        "import numpy as np\n",
        "from scipy.stats import norm, t, chi2\n",
        "import matplotlib.pyplot as plt\n",
        "from math import sqrt"
      ]
    },
    {
      "cell_type": "markdown",
      "metadata": {
        "id": "qvTahuOs_BM5"
      },
      "source": [
        "## Question 1\n",
        "[3 points] Temperature transducers of a certain type are shipped in batches of 50. A sample of 60 batches was selected, and the number of transducers in each batch not conforming to design specifications was determined"
      ]
    },
    {
      "cell_type": "code",
      "execution_count": 8,
      "metadata": {
        "id": "zmjd9oMN_T1d"
      },
      "outputs": [],
      "source": [
        "q_1_file = open(\"datafiles/q1.dat\", \"r\")\n",
        "q_1_dat = [int(x) for x in q_1_file.read().split(\",\")]\n",
        "num_data_points = len(q_1_dat)"
      ]
    },
    {
      "cell_type": "markdown",
      "metadata": {
        "id": "ruF72LOJ_TDT"
      },
      "source": [
        "### a.\n",
        "[1 point] Determine frequencies and relative frequencies for the observed values of the number of nonconforming transducers in a batch"
      ]
    },
    {
      "cell_type": "code",
      "execution_count": 9,
      "metadata": {
        "id": "ktVyjPQL_Aa8"
      },
      "outputs": [
        {
          "name": "stdout",
          "output_type": "stream",
          "text": [
            "Frequencies:\n",
            " {0: 6, 1: 13, 2: 13, 3: 14, 4: 7, 5: 2, 6: 2, 7: 2, 8: 1}\n",
            "Relative Frequencies:\n",
            " {0: 0.1, 1: 0.21666666666666667, 2: 0.21666666666666667, 3: 0.23333333333333334, 4: 0.11666666666666667, 5: 0.03333333333333333, 6: 0.03333333333333333, 7: 0.03333333333333333, 8: 0.016666666666666666}\n"
          ]
        }
      ],
      "source": [
        "frequency_dict = {}\n",
        "for val in q_1_dat:\n",
        "    if val in frequency_dict:\n",
        "        frequency_dict[val] += 1\n",
        "    else:\n",
        "        frequency_dict[val] = 1\n",
        "sorted_items = sorted(frequency_dict.items())\n",
        "sorted_frequencies = {}\n",
        "sorted_relative_frequencies = {}\n",
        "for key, value in sorted_items:\n",
        "    sorted_frequencies[key] = value\n",
        "    sorted_relative_frequencies[key] = value / num_data_points\n",
        "print(\"Frequencies:\\n\", sorted_frequencies)\n",
        "print(\"Relative Frequencies:\\n\", sorted_relative_frequencies)"
      ]
    },
    {
      "cell_type": "markdown",
      "metadata": {
        "id": "sHVcfAhq_gus"
      },
      "source": [
        "### b.\n",
        "[0.5 points] What proportion of batches in the sample have at most five nonconforming transducers? What proportion have fewer than five? What proportion have at least five nonconforming units?"
      ]
    },
    {
      "cell_type": "code",
      "execution_count": 35,
      "metadata": {
        "id": "3Jmk3iZv_hG-"
      },
      "outputs": [
        {
          "name": "stdout",
          "output_type": "stream",
          "text": [
            "Proportion of batches with at most 5 nonconforming transducers:\n",
            " 0.9166666666666666\n",
            "Proportion of batches with less than 5 nonconforming transducers:\n",
            " 0.8833333333333333\n",
            "Proportion of batches with at least 5 nonconforming transducers:\n",
            " 0.11666666666666667\n"
          ]
        }
      ],
      "source": [
        "at_most_5 = 0\n",
        "less_than_5 = 0\n",
        "at_least_5 = 0\n",
        "for key, value in sorted_items:\n",
        "    if key < 5:\n",
        "        at_most_5 += value\n",
        "        less_than_5 += value\n",
        "    elif key == 5:\n",
        "        at_most_5 += value\n",
        "        at_least_5 += value\n",
        "    else:\n",
        "        at_least_5 += value\n",
        "print(\n",
        "    \"Proportion of batches with at most 5 nonconforming transducers:\\n\",\n",
        "    at_most_5 / num_data_points,\n",
        ")\n",
        "print(\n",
        "    \"Proportion of batches with less than 5 nonconforming transducers:\\n\",\n",
        "    less_than_5 / num_data_points,\n",
        ")\n",
        "print(\n",
        "    \"Proportion of batches with at least 5 nonconforming transducers:\\n\",\n",
        "    at_least_5 / num_data_points,\n",
        ")"
      ]
    },
    {
      "cell_type": "markdown",
      "metadata": {
        "id": "xQ2eT1ab_hkO"
      },
      "source": [
        "### c.\n",
        "[1 point] Generate a histogram of the data using relative frequency on the vertical scale"
      ]
    },
    {
      "cell_type": "code",
      "execution_count": 11,
      "metadata": {
        "id": "beWfEOrm_jWR"
      },
      "outputs": [
        {
          "data": {
            "image/png": "[encoded data removed]",
            "text/plain": [
              "<Figure size 640x480 with 1 Axes>"
            ]
          },
          "metadata": {},
          "output_type": "display_data"
        }
      ],
      "source": [
        "q_1_np = np.array(q_1_dat, dtype=int)\n",
        "bins = np.array(list(range(max(q_1_dat) + 2))) - 0.5\n",
        "plt.hist(q_1_np, bins=bins, weights=np.zeros_like(q_1_np) + 1 / len(q_1_np))\n",
        "plt.title(\"Histogram of Nonconforming Transducers\")\n",
        "plt.xlabel(\"Count of Nonconforming Transducers in Batch\")\n",
        "plt.ylabel(\"Frequency\")\n",
        "plt.show()"
      ]
    },
    {
      "cell_type": "markdown",
      "metadata": {
        "id": "b6deuSIL_k61"
      },
      "source": [
        "### d.\n",
        "[0.5 points] Comment on the central tendency and shape of the histogram in c."
      ]
    },
    {
      "cell_type": "markdown",
      "metadata": {
        "id": "vV8iRkDrBFj5"
      },
      "source": [
        "The central tendency seems to be shifted to the left.  The shape looks like a binomial distribution centered around 2 to 3.\n"
      ]
    },
    {
      "cell_type": "markdown",
      "metadata": {
        "id": "Gq9bxmd6_mH0"
      },
      "source": [
        "## Question 2\n",
        "[2 points] The nine measurements that follow are furnace temperatures recorded on successive batches in a semiconductor manufacturing process (units are !F): 953, 950, 948, 955, 951, 949, 957, 954, 955"
      ]
    },
    {
      "cell_type": "code",
      "execution_count": 12,
      "metadata": {
        "id": "3TQM6dNt_nZX"
      },
      "outputs": [],
      "source": [
        "q_2_file = open(\"datafiles/q2.dat\")\n",
        "q_2_dat = [int(x) for x in q_2_file.read().split(\",\")]\n",
        "q_2_np = np.array(q_2_dat)"
      ]
    },
    {
      "cell_type": "markdown",
      "metadata": {
        "id": "YxlyDk0F_n3u"
      },
      "source": [
        "### a.\n",
        "[0.5 points] Calculate the sample mean, sample variance, and standard deviation"
      ]
    },
    {
      "cell_type": "code",
      "execution_count": 13,
      "metadata": {
        "id": "rEEzVtZo_oYl"
      },
      "outputs": [
        {
          "name": "stdout",
          "output_type": "stream",
          "text": [
            "Sample mean: 952.4444444444445 \n",
            "Sample variance: 9.52777777777778 \n",
            "Sample std: 3.0867098629086893\n"
          ]
        }
      ],
      "source": [
        "sample_mean = q_2_np.mean()\n",
        "sample_std = np.std(q_2_np, ddof=1)\n",
        "sample_var = sample_std**2\n",
        "print(\n",
        "    \"Sample mean:\",\n",
        "    sample_mean,\n",
        "    \"\\nSample variance:\",\n",
        "    sample_var,\n",
        "    \"\\nSample std:\",\n",
        "    sample_std,\n",
        ")"
      ]
    },
    {
      "cell_type": "markdown",
      "metadata": {
        "id": "cslKELxr_o62"
      },
      "source": [
        "### b.\n",
        "[0.5 points] Find the median. How much could the largest temperature measurement increase without changing the median value?"
      ]
    },
    {
      "cell_type": "code",
      "execution_count": 14,
      "metadata": {
        "id": "1Qs7Gk0A_pgo"
      },
      "outputs": [
        {
          "name": "stdout",
          "output_type": "stream",
          "text": [
            "Median: 953\n"
          ]
        }
      ],
      "source": [
        "def find_median(data_arr):\n",
        "    sorted_arr = sorted(data_arr)\n",
        "    while len(sorted_arr) > 2:\n",
        "        sorted_arr = sorted_arr[1:-1]\n",
        "\n",
        "    if len(sorted_arr) == 2:\n",
        "        return (sorted_arr[0] + sorted_arr[1]) / 2.0\n",
        "    else:\n",
        "        return sorted_arr[0]\n",
        "\n",
        "print(\"Median:\", find_median(q_2_dat))"
      ]
    },
    {
      "cell_type": "markdown",
      "metadata": {
        "id": "D_r0QgwfAiFv"
      },
      "source": [
        "The largest temperature measurement could increase indefinitly and not increase the median."
      ]
    },
    {
      "cell_type": "markdown",
      "metadata": {
        "id": "KyTe7vcm_sk-"
      },
      "source": [
        "### c.\n",
        "[1 point] Construct a box plot of the data."
      ]
    },
    {
      "cell_type": "code",
      "execution_count": 15,
      "metadata": {
        "id": "-utZHicq_trZ"
      },
      "outputs": [
        {
          "data": {
            "image/png": "[encoded data removed]",
            "text/plain": [
              "<Figure size 640x480 with 1 Axes>"
            ]
          },
          "metadata": {},
          "output_type": "display_data"
        }
      ],
      "source": [
        "plt.boxplot(q_2_np, vert=False, labels=[\"\"])\n",
        "plt.title(\"Box Plot of Temperature Data\")\n",
        "plt.xlabel(\"Temperature in Fahrenheit\")\n",
        "plt.show()"
      ]
    },
    {
      "cell_type": "markdown",
      "metadata": {
        "id": "WjmquBwmBoa7"
      },
      "source": [
        "## Question 3\n",
        "[2 points] Suppose you collected the following data on the oxide layer thickness of a particular semiconductor during an electrical circuits class at Thayer."
      ]
    },
    {
      "cell_type": "code",
      "execution_count": 16,
      "metadata": {
        "id": "ceLoQO4cBphC"
      },
      "outputs": [],
      "source": [
        "q_3_file = open(\"datafiles/q3.dat\", \"r\")\n",
        "q_3_dat = [int(x) for x in q_3_file.read().split(\",\")]\n",
        "q_3_np = np.array(q_3_dat)"
      ]
    },
    {
      "cell_type": "markdown",
      "metadata": {
        "id": "A_aWtFZRBrqs"
      },
      "source": [
        "### a.\n",
        "[0.5 points] Calculate a point estimate of the mean oxide layer thickness for all wafers in the population."
      ]
    },
    {
      "cell_type": "code",
      "execution_count": 17,
      "metadata": {
        "id": "J3XeKhZVBsK3"
      },
      "outputs": [
        {
          "name": "stdout",
          "output_type": "stream",
          "text": [
            "Sample mean: 423.3333333333333\n"
          ]
        }
      ],
      "source": [
        "sample_mean = q_3_np.mean()\n",
        "print(\"Sample mean:\", sample_mean)"
      ]
    },
    {
      "cell_type": "markdown",
      "metadata": {
        "id": "E_8MNBQ3BsdL"
      },
      "source": [
        "### b.\n",
        "[0.5 points] Calculate the standard error of the point estimate from part (a). Provide an interpretation of the standard error"
      ]
    },
    {
      "cell_type": "code",
      "execution_count": 36,
      "metadata": {
        "id": "vSOMdKU0Bs3-"
      },
      "outputs": [
        {
          "name": "stdout",
          "output_type": "stream",
          "text": [
            "Standard error: 1.8539681948816844\n"
          ]
        }
      ],
      "source": [
        "sample_std = np.std(q_3_np, ddof=1)\n",
        "print(\"Standard error:\", sample_std/sqrt(len(q_3_dat)))"
      ]
    },
    {
      "cell_type": "markdown",
      "metadata": {
        "id": "UNUrxpXsTOuq"
      },
      "source": [
        "Standard error is an estimation of the standard deviation of the population, while also considering the sample size, giving a more accurate picture of the fidelity of the sample mean."
      ]
    },
    {
      "cell_type": "markdown",
      "metadata": {
        "id": "cAIE5qVyBta6"
      },
      "source": [
        "### c.\n",
        "[0.5 points] Calculate a point estimate of the median oxide layer thickness for all wafers in the population."
      ]
    },
    {
      "cell_type": "code",
      "execution_count": 19,
      "metadata": {
        "id": "Af8eVboDBulB"
      },
      "outputs": [
        {
          "name": "stdout",
          "output_type": "stream",
          "text": [
            "Median: 424.0\n"
          ]
        }
      ],
      "source": [
        "print(\"Median:\", find_median(q_3_dat))"
      ]
    },
    {
      "cell_type": "markdown",
      "metadata": {
        "id": "apSUIeb9BvHA"
      },
      "source": [
        "### d.\n",
        "[0.5 points] Calculate a point estimate of the proportion of wafers in the population that have layer oxide thickness greater than 430 units"
      ]
    },
    {
      "cell_type": "code",
      "execution_count": 20,
      "metadata": {
        "id": "mZ7wnCFEBvbE"
      },
      "outputs": [
        {
          "name": "stdout",
          "output_type": "stream",
          "text": [
            "Proportion greater than 430: 0.2916666666666667\n"
          ]
        }
      ],
      "source": [
        "print(\"Proportion greater than 430:\", len(q_3_np[q_3_np > 430]) / len(q_3_np))"
      ]
    },
    {
      "cell_type": "markdown",
      "metadata": {
        "id": "ZnnGEE2sBxBz"
      },
      "source": [
        "## Question 4\n",
        "[2 points] A study was conducted to determine the average weight of a new species of fish that has recently been discovered. A sample of 20 fish was randomly selected from a large population of these fish and weighed."
      ]
    },
    {
      "cell_type": "code",
      "execution_count": 21,
      "metadata": {
        "id": "7RhixsA4ByMj"
      },
      "outputs": [],
      "source": [
        "q_4_file = open(\"datafiles/q4.dat\", \"r\")\n",
        "q_4_dat = [int(x) for x in q_4_file.read().split(\",\")]\n",
        "q_4_np = np.array(q_4_dat)"
      ]
    },
    {
      "cell_type": "markdown",
      "metadata": {
        "id": "QdpLmSXzBzbX"
      },
      "source": [
        "### a.\n",
        "[0.5 points] Calculate the sample mean weight of the fish."
      ]
    },
    {
      "cell_type": "code",
      "execution_count": 22,
      "metadata": {
        "id": "_rqEg2O0Bz80"
      },
      "outputs": [
        {
          "name": "stdout",
          "output_type": "stream",
          "text": [
            "Sample mean: 573.55\n"
          ]
        }
      ],
      "source": [
        "sample_mean = q_4_np.mean()\n",
        "print(\"Sample mean:\", sample_mean)"
      ]
    },
    {
      "cell_type": "markdown",
      "metadata": {
        "id": "i1ak4ERkB0gE"
      },
      "source": [
        "### b.\n",
        "[0.5 points] Calculate the standard error of the sample mean weight."
      ]
    },
    {
      "cell_type": "code",
      "execution_count": 37,
      "metadata": {
        "id": "Ykg9QTX2B02L"
      },
      "outputs": [
        {
          "name": "stdout",
          "output_type": "stream",
          "text": [
            "Standard error: 1.7221085606711448\n"
          ]
        }
      ],
      "source": [
        "sample_std = np.std(q_4_np, ddof=1)\n",
        "print(\"Standard error:\", sample_std / sqrt(len(q_4_dat)))"
      ]
    },
    {
      "cell_type": "markdown",
      "metadata": {
        "id": "FIilZMKYB1cF"
      },
      "source": [
        "### c.\n",
        "[1 point] Discuss the implications of reducing the sample size on point estimation."
      ]
    },
    {
      "cell_type": "markdown",
      "metadata": {
        "id": "1iw3nURDB10t"
      },
      "source": [
        "By reducing the sample size, you reduce the accuracy of point estimates.  The sample mean is less likely to be close to the population mean, and the standard error is likely to be smaller than the true population standard deviation."
      ]
    },
    {
      "cell_type": "markdown",
      "metadata": {
        "id": "8CnXPnjRDhaJ"
      },
      "source": [
        "## Question 5\n",
        "[1.5 point] The following data present motor fuel octane ratings of gasoline blends.  Construct a normal probability plot of the data. Does it seem reasonable to assume that octane rating is normally distributed? If not, what kind of behavior is the data exhibiting?"
      ]
    },
    {
      "cell_type": "code",
      "execution_count": 38,
      "metadata": {
        "id": "3IjfDjgeDjvM"
      },
      "outputs": [
        {
          "data": {
            "image/png": "[encoded data removed]",
            "text/plain": [
              "<Figure size 640x480 with 1 Axes>"
            ]
          },
          "metadata": {},
          "output_type": "display_data"
        }
      ],
      "source": [
        "q_5_file = open(\"datafiles/q5.dat\", \"r\")\n",
        "q_5_dat = sorted([float(x) for x in q_5_file.read().split(\",\")])\n",
        "q_5_np = np.array(q_5_dat)\n",
        "n = len(q_5_dat)\n",
        "ppf = np.zeros(n, dtype=float)\n",
        "z = np.zeros(n, dtype=float)\n",
        "for i in range(n):\n",
        "    ppf[i] = (i + 0.5) / n\n",
        "    z[i] = norm.ppf(ppf[i])\n",
        "\n",
        "plt.scatter(q_5_np, z)\n",
        "plt.title(\"Probability Plot of Octane Ratings\")\n",
        "plt.xlabel(\"Octane Rating\")\n",
        "plt.ylabel(\"Z\")\n",
        "plt.show()"
      ]
    },
    {
      "cell_type": "markdown",
      "metadata": {
        "id": "xBrvTkuYUCgm"
      },
      "source": [
        "It appears to be normally distributed, but with heavy tails.  Plotting a histogram, we can see this to be true."
      ]
    },
    {
      "cell_type": "code",
      "execution_count": 41,
      "metadata": {},
      "outputs": [
        {
          "data": {
            "image/png": "[encoded data removed]",
            "text/plain": [
              "<Figure size 640x480 with 1 Axes>"
            ]
          },
          "metadata": {},
          "output_type": "display_data"
        }
      ],
      "source": [
        "plt.hist(q_5_np)\n",
        "plt.title(\"Histogram of Octane Data\", loc='center')\n",
        "plt.xlabel(\"Octane Rating\")\n",
        "plt.ylabel(\"Counts\")\n",
        "plt.show()"
      ]
    },
    {
      "cell_type": "markdown",
      "metadata": {
        "id": "pRuLVsdfDlZs"
      },
      "source": [
        "## Question 6\n",
        "[2 points] A recent research study found that the mean age of smartphone users is 34 years with a standard deviation of 15 years. Suppose you took a sample of 100 people in the Upper Valley to confirm these results."
      ]
    },
    {
      "cell_type": "markdown",
      "metadata": {
        "id": "JqsvP95nEF2H"
      },
      "source": [
        "### a.\n",
        "[0.5 points] What are the mean and standard deviation for the sample mean ages of smartphone users?"
      ]
    },
    {
      "cell_type": "code",
      "execution_count": 25,
      "metadata": {
        "id": "9_ySdA0ADoj0"
      },
      "outputs": [
        {
          "name": "stdout",
          "output_type": "stream",
          "text": [
            "Mean: 34\n",
            "Standard deviation: 1.5\n"
          ]
        }
      ],
      "source": [
        "pop_mean = 34\n",
        "pop_std = 15\n",
        "n = 100\n",
        "sample_std = 15 / sqrt(n)\n",
        "print(\"Mean:\", pop_mean)\n",
        "print(\"Standard deviation:\", sample_std)"
      ]
    },
    {
      "cell_type": "markdown",
      "metadata": {
        "id": "04REpYOXEHQr"
      },
      "source": [
        "### b.\n",
        "[0.5 points] What does the distribution of the sample mean age of smartphone users should look like?"
      ]
    },
    {
      "cell_type": "markdown",
      "metadata": {
        "id": "zYLlJSRfEJQG"
      },
      "source": [
        "The distribution of the sample mean of smartphone user's aage should also be a normal distribution."
      ]
    },
    {
      "cell_type": "markdown",
      "metadata": {
        "id": "IXLCIFYLEJsY"
      },
      "source": [
        "### c.\n",
        "[0.5 points] Find the probability that the sample mean age is more than 30 years."
      ]
    },
    {
      "cell_type": "code",
      "execution_count": 26,
      "metadata": {
        "id": "o2EUln6HEM4k"
      },
      "outputs": [
        {
          "name": "stdout",
          "output_type": "stream",
          "text": [
            "Probability that sample mean is greater than 30: 0.9961696194324102\n"
          ]
        }
      ],
      "source": [
        "z = (30 - pop_mean) / sample_std\n",
        "prob = 1 - norm.cdf(z)\n",
        "print(\"Probability that sample mean is greater than 30:\", prob)"
      ]
    },
    {
      "cell_type": "markdown",
      "metadata": {
        "id": "8CJHqIB5EL8f"
      },
      "source": [
        "### d.\n",
        "[0.5 points] Find the 95th percentile for the sample mean age (to one decimal place)"
      ]
    },
    {
      "cell_type": "code",
      "execution_count": 27,
      "metadata": {
        "id": "HNgEAFcaEQBZ"
      },
      "outputs": [
        {
          "name": "stdout",
          "output_type": "stream",
          "text": [
            "95th percentile for sample mean age: 36.46728044042721\n"
          ]
        }
      ],
      "source": [
        "z = norm.ppf(0.95)\n",
        "sample_mean_95 = z * sample_std + pop_mean\n",
        "print(\"95th percentile for sample mean age:\", sample_mean_95)"
      ]
    },
    {
      "cell_type": "markdown",
      "metadata": {
        "id": "KBnXAJ2-ETxS"
      },
      "source": [
        "## Question 7\n",
        "[3 points] We collected a sample from the scores of the first quiz of our class: 76, 78, 80, 82, 84. The sample standard deviation is $s = 3.16$. We assume that the scores are normally distributed with unknown population mean and unknown population variance."
      ]
    },
    {
      "cell_type": "code",
      "execution_count": 28,
      "metadata": {
        "id": "KCZSRVMmUWa6"
      },
      "outputs": [],
      "source": [
        "q_7_dat = [76, 78, 80, 82, 84]\n",
        "n = len(q_7_dat)\n",
        "q_7_np = np.array(q_7_dat)"
      ]
    },
    {
      "cell_type": "markdown",
      "metadata": {
        "id": "G8ZUwNLJEYIb"
      },
      "source": [
        "### a.\n",
        "[0.5 points] Construct a two-sided confidence interval (CI) for the population mean score using a confidence level of 95%."
      ]
    },
    {
      "cell_type": "code",
      "execution_count": 29,
      "metadata": {
        "id": "p-b36GH9EXJM"
      },
      "outputs": [
        {
          "name": "stdout",
          "output_type": "stream",
          "text": [
            "Two-sided 95% CI for population mean: [76.07351367704487, 83.92648632295513]\n"
          ]
        }
      ],
      "source": [
        "sample_std = np.std(q_7_np, ddof=1)\n",
        "sample_mean = q_7_np.mean()\n",
        "t_val = t.ppf(0.975, n - 1)\n",
        "mean_ci = [\n",
        "    sample_mean - t_val * sample_std / sqrt(n),\n",
        "    sample_mean + t_val * sample_std / sqrt(n),\n",
        "]\n",
        "print(\"Two-sided 95% CI for population mean:\", mean_ci)"
      ]
    },
    {
      "cell_type": "markdown",
      "metadata": {
        "id": "-4Dv7n_DEZVs"
      },
      "source": [
        "### b.\n",
        "[0.5 points] Construct a two-sided CI for the population standard deviation using a confidence level of 95%."
      ]
    },
    {
      "cell_type": "code",
      "execution_count": 30,
      "metadata": {
        "id": "q-T7JEkUEaya"
      },
      "outputs": [
        {
          "name": "stdout",
          "output_type": "stream",
          "text": [
            "Two-sided 95% CI for population standard deviation: [1.8946253413504472, 9.086980786896534]\n"
          ]
        }
      ],
      "source": [
        "upper_chi_val = chi2.ppf(0.025, n - 1)\n",
        "lower_chi_val = chi2.ppf(0.975, n - 1)\n",
        "std_ci = [\n",
        "    sqrt((n - 1) * sample_std**2 / lower_chi_val),\n",
        "    sqrt((n - 1) * sample_std**2 / upper_chi_val),\n",
        "]\n",
        "print(\"Two-sided 95% CI for population standard deviation:\", std_ci)"
      ]
    },
    {
      "cell_type": "markdown",
      "metadata": {
        "id": "gb9XjSCcEiEI"
      },
      "source": [
        "Now suppose the population standard deviation is indeed given by $\\sigma = 3.16$\n",
        "### c.\n",
        "[0.5 points] Construct a two-sided CI for the population mean score using a confidence level of 95% for this case"
      ]
    },
    {
      "cell_type": "code",
      "execution_count": 31,
      "metadata": {
        "id": "F6vIK9sIEkFG"
      },
      "outputs": [
        {
          "name": "stdout",
          "output_type": "stream",
          "text": [
            "Two-sided 95% CI for population mean given standard deviation: [77.22819235130065, 82.77180764869935]\n"
          ]
        }
      ],
      "source": [
        "pop_std = sample_std\n",
        "z_val = norm.ppf(0.975)\n",
        "mean_ci = [\n",
        "    sample_mean - z_val * pop_std / sqrt(n),\n",
        "    sample_mean + z_val * pop_std / sqrt(n),\n",
        "]\n",
        "print(\n",
        "    \"Two-sided 95% CI for population mean given standard deviation:\",\n",
        "    mean_ci,\n",
        ")\n"
      ]
    },
    {
      "cell_type": "markdown",
      "metadata": {
        "id": "60EswXlsElin"
      },
      "source": [
        "### d.\n",
        "[1 point] How does the CI obtained in c. compares with the CI of part a.? Why is this the case?"
      ]
    },
    {
      "cell_type": "markdown",
      "metadata": {
        "id": "zELKIHGWEnJ_"
      },
      "source": [
        "The confidence interval in C is tighter than in A because there is some uncertainty in the sample standard deviation from the data, meaning that in order to account for this, a wider range was needed."
      ]
    },
    {
      "cell_type": "markdown",
      "metadata": {
        "id": "xiqls93yEoYy"
      },
      "source": [
        "### e.\n",
        "[0.5 points] What is sample size necessary for the two-sided 95% CI in (c) to have a width of 2?"
      ]
    },
    {
      "cell_type": "code",
      "execution_count": 32,
      "metadata": {
        "id": "y7v_RdUWEpmI"
      },
      "outputs": [
        {
          "name": "stdout",
          "output_type": "stream",
          "text": [
            "Sample size needed for width of 95% CI to be 2: 38.414588206941254\n"
          ]
        }
      ],
      "source": [
        "n_needed = (z_val * pop_std / 1) ** 2\n",
        "print(\"Sample size needed for width of 95% CI to be 2:\", n_needed)"
      ]
    },
    {
      "cell_type": "markdown",
      "metadata": {
        "id": "8XT7sHC-Erg-"
      },
      "source": [
        "## Question 8\n",
        "[1.5 points] Suppose you are examining various apple trees to measure the average number of apples for each tree. You estimate that the standard deviation in the number of apples per tree is around 5 and suspect that the numbers of apples per tree is normally distributed. What is the minimum number of trees you should check so that your 90% confidence interval specifies the mean to within plus and minus 2 apples per tree?"
      ]
    },
    {
      "cell_type": "code",
      "execution_count": 33,
      "metadata": {
        "id": "s7-0M9jEEs11"
      },
      "outputs": [
        {
          "name": "stdout",
          "output_type": "stream",
          "text": [
            "Number of trees needed for 90% CI to be +- 2: 16.909646588096333\n"
          ]
        }
      ],
      "source": [
        "sample_std = 5\n",
        "z_val = norm.ppf(0.95)\n",
        "n_needed = (z_val * sample_std / 2) ** 2\n",
        "print(\"Number of trees needed for 90% CI to be +- 2:\", n_needed)"
      ]
    },
    {
      "cell_type": "markdown",
      "metadata": {
        "id": "sGnlqMQ5Etca"
      },
      "source": [
        "## Question 9\n",
        "[1.5 points] A sample weights of 225 manufactured products have a reported mean of 35kg, with a 95% confidence interval of (34.64, 35.37) kg. Assuming that the population is normally distributed and true population variance is unknown, what is the sample variance?"
      ]
    },
    {
      "cell_type": "code",
      "execution_count": 39,
      "metadata": {
        "id": "xtruhmNjEvQy"
      },
      "outputs": [
        {
          "name": "stdout",
          "output_type": "stream",
          "text": [
            "Sample standard deviation: 2.7783261679113616\n",
            "Sample variance: 7.719096295301031\n"
          ]
        }
      ],
      "source": [
        "mean_ci = [34.64, 35.37]\n",
        "n = 225\n",
        "t_val = t.ppf(0.975, n - 1)\n",
        "sample_std = (mean_ci[1] - (mean_ci[0] + mean_ci[1]) / 2) * sqrt(n) / t_val\n",
        "print(\"Sample standard deviation:\", sample_std)\n",
        "print(\"Sample variance:\", sample_std**2)"
      ]
    },
    {
      "cell_type": "markdown",
      "metadata": {
        "id": "PNoeNOq9EwjR"
      },
      "source": [
        "## Question 10\n",
        "[1.5 points] The mean water temperature downstream from a power plant cooling tower discharge pipe should be no more than 100°F. Past experience has indicated that the standard deviation of temperature is 2°F. The water temperature is measured on nine randomly chosen days, and the average temperature is found to be 98°F."
      ]
    },
    {
      "cell_type": "markdown",
      "metadata": {
        "id": "HQHBbTN4EyNK"
      },
      "source": [
        "### a.\n",
        "[0.5 points] If a hypothesis test were to be performed on the resulting data, what null and alternative hypotheses would be of interest to the manufacturer?"
      ]
    },
    {
      "cell_type": "markdown",
      "metadata": {
        "id": "5zd3JNoEE0LQ"
      },
      "source": [
        "$H_0: \\mu = 100$\n",
        "\n",
        "$H_1: \\mu < 100$"
      ]
    },
    {
      "cell_type": "markdown",
      "metadata": {
        "id": "6UpBelHnE06v"
      },
      "source": [
        "### b.\n",
        "[0.5 points] Describe type I error in the context of this problem situation."
      ]
    },
    {
      "cell_type": "markdown",
      "metadata": {
        "id": "HxbAydRTE298"
      },
      "source": [
        "A type 1 error would be if the temperature just happened to be below the 100 degrees due to variability, whereas the true mean temperature is 100 degrees."
      ]
    },
    {
      "cell_type": "markdown",
      "metadata": {
        "id": "yeN8ekuuE3Yb"
      },
      "source": [
        "### c.\n",
        "[0.5 points] Describe type II error in the context of this problem situation"
      ]
    },
    {
      "cell_type": "markdown",
      "metadata": {
        "id": "QWakdh9EE4cs"
      },
      "source": [
        "A type II error would be if the mean temperature were actually below the 100 degrees, but sampling made us think that the mean was 100 degrees."
      ]
    }
  ],
  "metadata": {
    "colab": {
      "provenance": []
    },
    "kernelspec": {
      "display_name": "Python 3",
      "name": "python3"
    },
    "language_info": {
      "codemirror_mode": {
        "name": "ipython",
        "version": 3
      },
      "file_extension": ".py",
      "mimetype": "text/x-python",
      "name": "python",
      "nbconvert_exporter": "python",
      "pygments_lexer": "ipython3",
      "version": "3.8.10"
    }
  },
  "nbformat": 4,
  "nbformat_minor": 0
}
