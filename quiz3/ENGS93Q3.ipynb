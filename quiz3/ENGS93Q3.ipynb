{
  "cells": [
    {
      "cell_type": "markdown",
      "metadata": {
        "id": "mNhyzhP1dGn9"
      },
      "source": [
        "# ENGS 93 Quiz 3 Practice\n",
        "Cameron Wolfe 2/22/2024"
      ]
    },
    {
      "cell_type": "code",
      "execution_count": null,
      "metadata": {
        "id": "ZTUXhPvAdGn-"
      },
      "outputs": [],
      "source": [
        "import numpy as np\n",
        "from scipy.stats import t, norm, chi2, f\n",
        "from math import sqrt, exp, ceil, floor\n",
        "import matplotlib.pyplot as plt"
      ]
    },
    {
      "cell_type": "markdown",
      "metadata": {
        "id": "ZmZexinldGn_"
      },
      "source": [
        "## 10-1"
      ]
    },
    {
      "cell_type": "code",
      "execution_count": null,
      "metadata": {
        "colab": {
          "base_uri": "https://localhost:8080/"
        },
        "id": "x2IokwjydGn_",
        "outputId": "f75bda2f-c77a-4ba1-881e-4297fbd1a8a6"
      },
      "outputs": [
        {
          "output_type": "stream",
          "name": "stdout",
          "text": [
            "P-value: 0.3640964293652712\n"
          ]
        }
      ],
      "source": [
        "xbar1 = 4.7\n",
        "xbar2 = 7.8\n",
        "n1 = 10\n",
        "n2 = 15\n",
        "sigma1 = 10\n",
        "sigma2 = 5\n",
        "\n",
        "se_coeff = sqrt(sigma1**2 / n1 + sigma2**2 / n2)\n",
        "\n",
        "z = (xbar1 - xbar2) / se_coeff\n",
        "p = 2 * norm.sf(abs(z))\n",
        "print(\"P-value:\", p)"
      ]
    },
    {
      "cell_type": "markdown",
      "metadata": {
        "id": "tamtIftUdGoA"
      },
      "source": [
        "Cannot reject $H_0$ as $p > \\alpha$"
      ]
    },
    {
      "cell_type": "code",
      "execution_count": null,
      "metadata": {
        "colab": {
          "base_uri": "https://localhost:8080/"
        },
        "id": "GzVCUNLIdGoA",
        "outputId": "2a99317c-3d0f-4b23-82e8-8fbf85a996da"
      },
      "outputs": [
        {
          "output_type": "stream",
          "name": "stdout",
          "text": [
            "95% CI: (-9.794551484211977, 3.594551484211978)\n"
          ]
        }
      ],
      "source": [
        "z_alpha = norm.ppf(0.975)\n",
        "ci = (xbar1 - xbar2 - z_alpha * se_coeff, xbar1 - xbar2 + z_alpha * se_coeff)\n",
        "print(\"95% CI:\", ci)"
      ]
    },
    {
      "cell_type": "markdown",
      "metadata": {
        "id": "8J0t4LyzdGoA"
      },
      "source": [
        "Because 0 is in 95% CI, cannot reject $H_0$"
      ]
    },
    {
      "cell_type": "code",
      "execution_count": null,
      "metadata": {
        "colab": {
          "base_uri": "https://localhost:8080/"
        },
        "id": "T4GqLO3hdGoA",
        "outputId": "adab10ca-ccd2-45d1-d002-ce0d39250bc6"
      },
      "outputs": [
        {
          "output_type": "stream",
          "name": "stdout",
          "text": [
            "Power: 0.14197107914234097\n"
          ]
        }
      ],
      "source": [
        "beta = norm.cdf(z_alpha - 3 / se_coeff) - norm.cdf(-z_alpha - 3 / se_coeff)\n",
        "print(\"Power:\", 1-beta)"
      ]
    },
    {
      "cell_type": "code",
      "execution_count": null,
      "metadata": {
        "colab": {
          "base_uri": "https://localhost:8080/"
        },
        "id": "ksh0qKPFdGoB",
        "outputId": "188261cd-34b7-4343-bbcd-59ad6d2768c3"
      },
      "outputs": [
        {
          "output_type": "stream",
          "name": "stdout",
          "text": [
            "Sample size needed: 181\n"
          ]
        }
      ],
      "source": [
        "z_beta = norm.ppf(0.95)\n",
        "n = ceil((z_alpha + z_beta)**2 * (sigma1**2 + sigma2**2) / 3 ** 2)\n",
        "print(\"Sample size needed:\", n)"
      ]
    },
    {
      "cell_type": "markdown",
      "metadata": {
        "id": "YcEEj94pdGoB"
      },
      "source": [
        "## 10-3"
      ]
    },
    {
      "cell_type": "code",
      "execution_count": null,
      "metadata": {
        "colab": {
          "base_uri": "https://localhost:8080/"
        },
        "id": "aKDbsie9dGoB",
        "outputId": "863870ce-5081-4a2a-a35b-a17707914b43"
      },
      "outputs": [
        {
          "output_type": "stream",
          "name": "stdout",
          "text": [
            "P-value: 0.17441424161364644\n"
          ]
        }
      ],
      "source": [
        "xbar1 = 24.5\n",
        "xbar2 = 21.3\n",
        "n1 = 10\n",
        "n2 = 15\n",
        "sigma1 = 10\n",
        "sigma2 = 5\n",
        "\n",
        "se_coeff = sqrt(sigma1**2 / n1 + sigma2**2 / n2)\n",
        "\n",
        "z = (xbar1 - xbar2) / se_coeff\n",
        "p = norm.sf(z)\n",
        "print(\"P-value:\", p)"
      ]
    },
    {
      "cell_type": "markdown",
      "metadata": {
        "id": "ImnVU-hpdGoC"
      },
      "source": [
        "Cannot reject $H_0$ as $p > \\alpha$"
      ]
    },
    {
      "cell_type": "code",
      "execution_count": null,
      "metadata": {
        "colab": {
          "base_uri": "https://localhost:8080/"
        },
        "id": "2UfnBjm5dGoC",
        "outputId": "82c43135-2b7e-40ba-ed6c-40a1d3ee4fd5"
      },
      "outputs": [
        {
          "output_type": "stream",
          "name": "stdout",
          "text": [
            "95% CI: (-4.7459907099304255, inf)\n"
          ]
        }
      ],
      "source": [
        "z_alpha = norm.ppf(0.99)\n",
        "ci = (xbar1 - xbar2 - z_alpha * se_coeff, np.inf)\n",
        "print(\"95% CI:\", ci)"
      ]
    },
    {
      "cell_type": "markdown",
      "metadata": {
        "id": "1uQP-lmZdGoC"
      },
      "source": [
        "Because 0 is contained within the CI, we cannot reject $H_0$"
      ]
    },
    {
      "cell_type": "code",
      "execution_count": null,
      "metadata": {
        "colab": {
          "base_uri": "https://localhost:8080/"
        },
        "id": "3R9_JUFYdGoC",
        "outputId": "000cb848-0cfa-4983-d3f1-26611c475e6c"
      },
      "outputs": [
        {
          "output_type": "stream",
          "name": "stdout",
          "text": [
            "Power: 0.042654892076773865\n"
          ]
        }
      ],
      "source": [
        "beta = norm.cdf(z_alpha - 2 / se_coeff) - norm.cdf(-z_alpha - 2 / se_coeff)\n",
        "print(\"Power:\", 1-beta)"
      ]
    },
    {
      "cell_type": "code",
      "execution_count": null,
      "metadata": {
        "colab": {
          "base_uri": "https://localhost:8080/"
        },
        "id": "EN3D0d1ddGoC",
        "outputId": "2e6f563c-3d98-465c-922a-94fd4a70cf29"
      },
      "outputs": [
        {
          "output_type": "stream",
          "name": "stdout",
          "text": [
            "Sample size needed: 151\n"
          ]
        }
      ],
      "source": [
        "z_alpha = norm.ppf(0.95)\n",
        "z_beta = norm.ppf(0.95)\n",
        "n = ceil((z_alpha + z_beta)**2 * (sigma1**2 + sigma2**2) / 3 ** 2)\n",
        "print(\"Sample size needed:\", n)"
      ]
    },
    {
      "cell_type": "markdown",
      "metadata": {
        "id": "ITeERMttdGoD"
      },
      "source": [
        "## 10-5"
      ]
    },
    {
      "cell_type": "markdown",
      "metadata": {
        "id": "R_COuA1MdGoD"
      },
      "source": [
        "$H_0$: $\\mu_1 - \\mu_2 = 10$, $H_1$: $\\Delta\\mu > 10$"
      ]
    },
    {
      "cell_type": "code",
      "execution_count": null,
      "metadata": {
        "colab": {
          "base_uri": "https://localhost:8080/"
        },
        "id": "sFaWnlRxdGoD",
        "outputId": "7e4a0ff8-9afe-405f-fa73-7088f7ff34aa"
      },
      "outputs": [
        {
          "output_type": "stream",
          "name": "stdout",
          "text": [
            "P-value: 0.9999999973701791\n"
          ]
        }
      ],
      "source": [
        "xbar1 = 162.5\n",
        "xbar2 = 155.0\n",
        "n1 = 10\n",
        "n2 = 12\n",
        "sigma1 = 1\n",
        "sigma2 = 1\n",
        "\n",
        "delta_mu = 10\n",
        "\n",
        "se_coeff = sqrt(sigma1**2 / n1 + sigma2**2 / n2)\n",
        "\n",
        "z = (xbar1 - xbar2 - 10) / se_coeff\n",
        "p = norm.sf(z)\n",
        "print(\"P-value:\", p)"
      ]
    },
    {
      "cell_type": "markdown",
      "metadata": {
        "id": "jjBm91uBdGoD"
      },
      "source": [
        "Cannot reject $H_0$, therefore they should not use plastic 1"
      ]
    },
    {
      "cell_type": "code",
      "execution_count": null,
      "metadata": {
        "colab": {
          "base_uri": "https://localhost:8080/"
        },
        "id": "KaDzRI4bdGoD",
        "outputId": "25602520-8d17-4e3a-d74a-96f463b712e1"
      },
      "outputs": [
        {
          "output_type": "stream",
          "name": "stdout",
          "text": [
            "95% CI: (6.795715753464915, inf)\n"
          ]
        }
      ],
      "source": [
        "z_alpha = norm.ppf(0.95)\n",
        "ci = (xbar1 - xbar2 - z_alpha * se_coeff, np.inf)\n",
        "print(\"95% CI:\", ci)"
      ]
    },
    {
      "cell_type": "code",
      "execution_count": null,
      "metadata": {
        "colab": {
          "base_uri": "https://localhost:8080/"
        },
        "id": "Rw93inyVdGoD",
        "outputId": "eda6f174-d068-45ff-daa8-ab5f1ce87a50"
      },
      "outputs": [
        {
          "output_type": "stream",
          "name": "stdout",
          "text": [
            "Power: 0.9987615122284447\n"
          ]
        }
      ],
      "source": [
        "beta = norm.cdf(z_alpha - 2 / se_coeff)\n",
        "print(\"Power:\", 1-beta)"
      ]
    },
    {
      "cell_type": "markdown",
      "metadata": {
        "id": "__uC_HLLdGoE"
      },
      "source": [
        "Yes, the sample sizes are sufficient, as the power is basically 1, meaning that you are nearly guaranteed to detect a difference in means"
      ]
    },
    {
      "cell_type": "markdown",
      "metadata": {
        "id": "Znp7pk-bdGoE"
      },
      "source": [
        "## 10-7"
      ]
    },
    {
      "cell_type": "markdown",
      "metadata": {
        "id": "0ojo5I72dGoE"
      },
      "source": [
        "$H_0$: $\\mu_1 = \\mu_2$, $H_1$: $\\mu_1 < \\mu_2$"
      ]
    },
    {
      "cell_type": "code",
      "execution_count": null,
      "metadata": {
        "colab": {
          "base_uri": "https://localhost:8080/"
        },
        "id": "SrRZ3macdGoE",
        "outputId": "2c8d1b25-d3bc-4579-ea20-b6f039e6dbf3"
      },
      "outputs": [
        {
          "output_type": "stream",
          "name": "stdout",
          "text": [
            "P-value: 2.083858158671828e-13\n"
          ]
        }
      ],
      "source": [
        "xbar1 = 89.6\n",
        "xbar2 = 92.5\n",
        "n1 = 15\n",
        "n2 = 20\n",
        "sigma1 = sqrt(1.5)\n",
        "sigma2 = sqrt(1.2)\n",
        "\n",
        "se_coeff = sqrt(sigma1**2 / n1 + sigma2**2 / n2)\n",
        "\n",
        "z = (xbar1 - xbar2) / se_coeff\n",
        "p = norm.cdf(z)\n",
        "print(\"P-value:\", p)"
      ]
    },
    {
      "cell_type": "markdown",
      "metadata": {
        "id": "rR2J2S16dGoE"
      },
      "source": [
        "We can reject $H_0$ and conclude that $\\mu_2 > \\mu_1$"
      ]
    },
    {
      "cell_type": "code",
      "execution_count": null,
      "metadata": {
        "colab": {
          "base_uri": "https://localhost:8080/"
        },
        "id": "RCVeIJL3dGoE",
        "outputId": "5de12a90-6e9c-4fbc-d96c-69afa8120f1c"
      },
      "outputs": [
        {
          "output_type": "stream",
          "name": "stdout",
          "text": [
            "95% CI: (-inf, -1.9694608503836695)\n"
          ]
        }
      ],
      "source": [
        "z_alpha = norm.ppf(0.99)\n",
        "ci = (-np.inf, xbar1 - xbar2 + z_alpha * se_coeff)\n",
        "print(\"95% CI:\", ci)"
      ]
    },
    {
      "cell_type": "markdown",
      "metadata": {
        "id": "QiKPF4nKdGoE"
      },
      "source": [
        "Because $0\\notin CI$, we can reject $H_0$"
      ]
    },
    {
      "cell_type": "code",
      "execution_count": null,
      "metadata": {
        "colab": {
          "base_uri": "https://localhost:8080/"
        },
        "id": "VGYIXuLXdGoE",
        "outputId": "81e30ef9-43d9-4bbb-890e-ea60c21dfa21"
      },
      "outputs": [
        {
          "output_type": "stream",
          "name": "stdout",
          "text": [
            "Sample size needed: 11\n"
          ]
        }
      ],
      "source": [
        "E = 1\n",
        "z_alpha = norm.ppf(0.975)\n",
        "\n",
        "n = (z_alpha**2 / E) * (sigma1**2 + sigma2**2)\n",
        "print(\"Sample size needed:\", ceil(n))"
      ]
    },
    {
      "cell_type": "markdown",
      "metadata": {
        "id": "KKck88ecdGoF"
      },
      "source": [
        "## 10-9"
      ]
    },
    {
      "cell_type": "code",
      "execution_count": null,
      "metadata": {
        "colab": {
          "base_uri": "https://localhost:8080/"
        },
        "id": "kQ9f_J87dGoF",
        "outputId": "187e3f19-8a17-42cb-c2a0-49adc5c6780a"
      },
      "outputs": [
        {
          "output_type": "stream",
          "name": "stdout",
          "text": [
            "P-value: 0.017072661093788775\n",
            "95% CI: (-5.829567621729733, -0.5704323782702438)\n"
          ]
        }
      ],
      "source": [
        "arr1 = np.array([57.9, 66.2, 65.4, 65.4, 65.2, 62.6, 67.6, 63.7, 67.2, 71.0])\n",
        "arr2 = np.array([66.4, 71.7, 70.3, 69.3, 64.8, 69.6, 68.6, 69.4, 65.3, 68.8])\n",
        "\n",
        "xbar1 = arr1.mean()\n",
        "xbar2 = arr2.mean()\n",
        "n1 = len(arr1)\n",
        "n2 = len(arr2)\n",
        "sigma1 = 3\n",
        "sigma2 = 3\n",
        "\n",
        "se_coeff = sqrt(sigma1**2 / n1 + sigma2**2 / n2)\n",
        "\n",
        "z = (xbar1 - xbar2) / se_coeff\n",
        "p = 2 * norm.sf(abs(z))\n",
        "print(\"P-value:\", p)\n",
        "\n",
        "z_alpha = norm.ppf(0.975)\n",
        "ci = (xbar1 - xbar2 - z_alpha * se_coeff, xbar1 - xbar2 + z_alpha * se_coeff)\n",
        "print(\"95% CI:\", ci)"
      ]
    },
    {
      "cell_type": "markdown",
      "metadata": {
        "id": "ZlilqqfFdGoF"
      },
      "source": [
        "Yes is does, as 0 difference in mean active concentration is not within the 95% CI, therefore there is a statistically significant difference between the two quantities"
      ]
    },
    {
      "cell_type": "code",
      "execution_count": null,
      "metadata": {
        "colab": {
          "base_uri": "https://localhost:8080/"
        },
        "id": "DoFmw0ALdGoF",
        "outputId": "0f737f1a-3703-4387-d21d-49da41714760"
      },
      "outputs": [
        {
          "output_type": "stream",
          "name": "stdout",
          "text": [
            "Power: 0.9613704804982451\n"
          ]
        }
      ],
      "source": [
        "beta = norm.cdf(z_alpha - 5 / se_coeff) - norm.cdf(-z_alpha - 5 / se_coeff)\n",
        "print(\"Power:\", 1-beta)"
      ]
    },
    {
      "cell_type": "markdown",
      "metadata": {
        "id": "L34QxdLodGoF"
      },
      "source": [
        "I would consider this to be inadequate, as the chance of a Type II error is around 50%, which is way too high."
      ]
    },
    {
      "cell_type": "code",
      "execution_count": null,
      "metadata": {
        "colab": {
          "base_uri": "https://localhost:8080/",
          "height": 927
        },
        "id": "Y6YFXS8AdGoF",
        "outputId": "504bb831-fa85-4d60-9853-ec0eaa5a44e5"
      },
      "outputs": [
        {
          "output_type": "display_data",
          "data": {
            "text/plain": [
              "<Figure size 640x480 with 1 Axes>"
            ],
            "image/png": "[encoded data removed]"
          },
          "metadata": {}
        },
        {
          "output_type": "display_data",
          "data": {
            "text/plain": [
              "<Figure size 640x480 with 1 Axes>"
            ],
            "image/png": "[encoded data removed]"
          },
          "metadata": {}
        }
      ],
      "source": [
        "def normal_probability_plot(data_array: np.ndarray) -> None:\n",
        "    sorted_array = np.sort(data_array.flatten())\n",
        "\n",
        "    n = len(sorted_array)\n",
        "\n",
        "    z = np.zeros(n)\n",
        "\n",
        "    for i in range(n):\n",
        "        z[i] = norm.ppf((i + 0.5) / n)\n",
        "\n",
        "    plt.scatter(sorted_array, z)\n",
        "    plt.title(\"Normal Probability Plot\")\n",
        "    plt.xlabel(\"Values\")\n",
        "    plt.ylabel(\"Z value\")\n",
        "    plt.show()\n",
        "\n",
        "normal_probability_plot(arr1)\n",
        "normal_probability_plot(arr2)"
      ]
    },
    {
      "cell_type": "markdown",
      "metadata": {
        "id": "pTgHlkrTdGoG"
      },
      "source": [
        "Both data sets appear to be normally distributed"
      ]
    },
    {
      "cell_type": "markdown",
      "metadata": {
        "id": "FqkmEEgLdGoG"
      },
      "source": [
        "## 10-13"
      ]
    },
    {
      "cell_type": "code",
      "execution_count": null,
      "metadata": {
        "colab": {
          "base_uri": "https://localhost:8080/"
        },
        "id": "i2nQkjIFdGoG",
        "outputId": "5b51276d-37ed-4b47-9633-682ca707aac6"
      },
      "outputs": [
        {
          "output_type": "stream",
          "name": "stdout",
          "text": [
            "P-value: 0.031540216910763794\n"
          ]
        }
      ],
      "source": [
        "xbar1 = 6.2\n",
        "xbar2 = 7.8\n",
        "n1 = 15\n",
        "n2 = 15\n",
        "s1 = sqrt(4)\n",
        "s2 = sqrt(6.25)\n",
        "\n",
        "s_pool = sqrt(((n1 - 1) * s1**2 + (n2 - 1) * s2**2) / (n1 + n2 - 2))\n",
        "\n",
        "se_coeff = s_pool * sqrt(1 / n1 + 1 / n2)\n",
        "\n",
        "t_val = (xbar1 - xbar2) / se_coeff\n",
        "p = t.cdf(t_val, n1 + n2 - 2)\n",
        "print(\"P-value:\", p)"
      ]
    },
    {
      "cell_type": "markdown",
      "metadata": {
        "id": "_qD5kztvdGoO"
      },
      "source": [
        "We can reject $H_0$"
      ]
    },
    {
      "cell_type": "code",
      "execution_count": null,
      "metadata": {
        "colab": {
          "base_uri": "https://localhost:8080/"
        },
        "id": "aPDhkZledGoO",
        "outputId": "b60f8248-49d8-4b23-b5e3-42b40462f6c7"
      },
      "outputs": [
        {
          "output_type": "stream",
          "name": "stdout",
          "text": [
            "95% CI: (-inf, -0.19377749107656195)\n"
          ]
        }
      ],
      "source": [
        "t_alpha = t.ppf(0.95, n1 + n2 - 2)\n",
        "ci = (-np.inf, xbar1 - xbar2 + t_alpha * se_coeff)\n",
        "\n",
        "print(\"95% CI:\", ci)"
      ]
    },
    {
      "cell_type": "markdown",
      "metadata": {
        "id": "64E0MB6RdGoP"
      },
      "source": [
        "$0 \\in CI$ therefore cannot reject $H_0$"
      ]
    },
    {
      "cell_type": "code",
      "execution_count": null,
      "metadata": {
        "colab": {
          "base_uri": "https://localhost:8080/"
        },
        "id": "WUdzhFSZdGoP",
        "outputId": "5934e3a1-7f69-41b5-c152-7bb9a692dc88"
      },
      "outputs": [
        {
          "output_type": "stream",
          "name": "stdout",
          "text": [
            "1.9280193391888722\n",
            "Power: 0.9679747113700826\n"
          ]
        }
      ],
      "source": [
        "print(3 / se_coeff - t_alpha)\n",
        "beta = t.sf(3 / se_coeff - t_alpha, n1 + n2 - 2)\n",
        "print(\"Power:\", 1-beta)"
      ]
    },
    {
      "cell_type": "code",
      "execution_count": null,
      "metadata": {
        "colab": {
          "base_uri": "https://localhost:8080/"
        },
        "id": "fhGJQnQEdGoP",
        "outputId": "975fb688-0a7a-4213-a632-63793b748ae7"
      },
      "outputs": [
        {
          "output_type": "stream",
          "name": "stdout",
          "text": [
            "d for OC Curve: 0.5521576303742327\n"
          ]
        }
      ],
      "source": [
        "d = 2.5 / (2 * s_pool)\n",
        "print(\"d for OC Curve:\", d)"
      ]
    },
    {
      "cell_type": "markdown",
      "metadata": {
        "id": "kqSoi7EsdGoP"
      },
      "source": [
        "$n^* = 40, n_1 = n_2 = \\left\\lceil\\frac{n^*+1}{2}\\right\\rceil = 21$"
      ]
    },
    {
      "cell_type": "markdown",
      "metadata": {
        "id": "NRc_FuIvdGoP"
      },
      "source": [
        "## 10-15"
      ]
    },
    {
      "cell_type": "markdown",
      "metadata": {
        "id": "eLbJ6lKzdGoP"
      },
      "source": [
        "$H_0$: $\\mu_1=\\mu_2$, $H_1$: $\\mu_1\\neq\\mu_2$"
      ]
    },
    {
      "cell_type": "code",
      "execution_count": null,
      "metadata": {
        "colab": {
          "base_uri": "https://localhost:8080/"
        },
        "id": "1Ou3ulVqdGoQ",
        "outputId": "ad197e21-2b9d-4d3b-bbfe-3c3f61e1955f"
      },
      "outputs": [
        {
          "output_type": "stream",
          "name": "stdout",
          "text": [
            "P-value: 0.8196697157339579\n"
          ]
        }
      ],
      "source": [
        "xbar1 = 8.73\n",
        "xbar2 = 8.68\n",
        "n1 = 15\n",
        "n2 = 17\n",
        "s1 = sqrt(0.35)\n",
        "s2 = sqrt(0.40)\n",
        "\n",
        "s_pool = sqrt(((n1 - 1) * s1**2 + (n2 - 1) * s2**2) / (n1 + n2 - 2))\n",
        "\n",
        "se_coeff = s_pool * sqrt(1 / n1 + 1 / n2)\n",
        "\n",
        "t_val = (xbar1 - xbar2) / se_coeff\n",
        "p = 2 * t.sf(abs(t_val), n1 + n2 - 2)\n",
        "print(\"P-value:\", p)"
      ]
    },
    {
      "cell_type": "markdown",
      "metadata": {
        "id": "sw-gwy4odGoQ"
      },
      "source": [
        "Cannot reject $H_0$, insufficient evidence to claim machines produce different mean diameters"
      ]
    },
    {
      "cell_type": "code",
      "execution_count": null,
      "metadata": {
        "colab": {
          "base_uri": "https://localhost:8080/"
        },
        "id": "1LZtOz4ddGoQ",
        "outputId": "aab95b6d-74ba-4b97-c4d0-1498962d7431"
      },
      "outputs": [
        {
          "output_type": "stream",
          "name": "stdout",
          "text": [
            "95% CI: (-0.39401452100926715, 0.49401452100926857)\n"
          ]
        }
      ],
      "source": [
        "t_alpha = t.ppf(0.975, n1+n2-2)\n",
        "ci = (xbar1 - xbar2 - t_alpha * se_coeff, xbar1 - xbar2 + t_alpha * se_coeff)\n",
        "\n",
        "print(\"95% CI:\", ci)"
      ]
    },
    {
      "cell_type": "markdown",
      "metadata": {
        "id": "5Q7p3eG5dGoQ"
      },
      "source": [
        "Because 0 is in the CI, we cannot conclude that there is a significant difference between the machines"
      ]
    },
    {
      "cell_type": "markdown",
      "metadata": {
        "id": "U2rK6lKrdGoQ"
      },
      "source": [
        "## 10-17"
      ]
    },
    {
      "cell_type": "code",
      "execution_count": null,
      "metadata": {
        "colab": {
          "base_uri": "https://localhost:8080/"
        },
        "id": "BnROlHQkdGoR",
        "outputId": "0223a2d2-ffd0-4cc1-c67a-b100313aacbe"
      },
      "outputs": [
        {
          "output_type": "stream",
          "name": "stdout",
          "text": [
            "P-value: 0.002309560748636289\n"
          ]
        }
      ],
      "source": [
        "xbar1 = 86\n",
        "xbar2 = 89\n",
        "n1 = 12\n",
        "n2 = 15\n",
        "s1 = 3\n",
        "s2 = 2\n",
        "\n",
        "s_pool = sqrt(((n1 - 1) * s1**2 + (n2 - 1) * s2**2) / (n1 + n2 - 2))\n",
        "\n",
        "se_coeff = s_pool * sqrt(1 / n1 + 1 / n2)\n",
        "\n",
        "t_val = (xbar1 - xbar2) / se_coeff\n",
        "p = t.cdf(t_val, n1 + n2 - 2)\n",
        "print(\"P-value:\", p)"
      ]
    },
    {
      "cell_type": "markdown",
      "metadata": {
        "id": "G6SvZfs5dGoR"
      },
      "source": [
        "Yes, we can reject $H_0$ as $P < \\alpha$"
      ]
    },
    {
      "cell_type": "code",
      "execution_count": null,
      "metadata": {
        "colab": {
          "base_uri": "https://localhost:8080/"
        },
        "id": "SDJWymuvdGoR",
        "outputId": "a7f9319a-f366-452a-9c63-4abc43eaa8bc"
      },
      "outputs": [
        {
          "output_type": "stream",
          "name": "stdout",
          "text": [
            "95% CI: (-inf, -0.6034494296702118)\n"
          ]
        }
      ],
      "source": [
        "t_alpha = t.ppf(0.99, n1+n2-2)\n",
        "ci = (-np.inf, xbar1 - xbar2 + t_alpha * se_coeff)\n",
        "\n",
        "print(\"95% CI:\", ci)"
      ]
    },
    {
      "cell_type": "markdown",
      "metadata": {
        "id": "vtkMkTy0dGoR"
      },
      "source": [
        "## 10-19"
      ]
    },
    {
      "cell_type": "code",
      "execution_count": null,
      "metadata": {
        "colab": {
          "base_uri": "https://localhost:8080/",
          "height": 927
        },
        "id": "psHvZFCNdGoR",
        "outputId": "dae62593-885d-4cee-8bd1-bc5b7ab4496d"
      },
      "outputs": [
        {
          "output_type": "display_data",
          "data": {
            "text/plain": [
              "<Figure size 640x480 with 1 Axes>"
            ],
            "image/png": "[encoded data removed]"
          },
          "metadata": {}
        },
        {
          "output_type": "display_data",
          "data": {
            "text/plain": [
              "<Figure size 640x480 with 1 Axes>"
            ],
            "image/png": "[encoded data removed]"
          },
          "metadata": {}
        }
      ],
      "source": [
        "arr1 = np.array([9.9, 10.6, 9.4, 10.3, 9.3, 10.0, 9.6, 10.3, 10.2, 10.1])\n",
        "arr2 = np.array([10.2, 10.0, 10.6, 10.2, 10.7, 10.7, 10.4, 10.4, 10.5, 10.3])\n",
        "\n",
        "xbar1 = arr1.mean()\n",
        "xbar2 = arr2.mean()\n",
        "n1 = len(arr1)\n",
        "n2 = len(arr2)\n",
        "s1 = np.std(arr1, ddof=1)\n",
        "s2 = np.std(arr2, ddof=1)\n",
        "\n",
        "normal_probability_plot(arr1)\n",
        "normal_probability_plot(arr2)"
      ]
    },
    {
      "cell_type": "markdown",
      "metadata": {
        "id": "-08_4o2XdGoS"
      },
      "source": [
        "Both samples appear to be normally distributed"
      ]
    },
    {
      "cell_type": "code",
      "execution_count": null,
      "metadata": {
        "colab": {
          "base_uri": "https://localhost:8080/"
        },
        "id": "30FmGunrdGoS",
        "outputId": "0cac59a8-2dc0-4e3a-9380-094201be61eb"
      },
      "outputs": [
        {
          "output_type": "stream",
          "name": "stdout",
          "text": [
            "P-value: 0.011150646764286247\n"
          ]
        }
      ],
      "source": [
        "s_pool = sqrt(((n1 - 1) * s1**2 + (n2 - 1) * s2**2) / (n1 + n2 - 2))\n",
        "\n",
        "se_coeff = s_pool * sqrt(1 / n1 + 1 / n2)\n",
        "\n",
        "t_val = (xbar1 - xbar2) / se_coeff\n",
        "p = 2 * t.sf(abs(t_val), n1 + n2 - 2)\n",
        "print(\"P-value:\", p)"
      ]
    },
    {
      "cell_type": "markdown",
      "metadata": {
        "id": "NglCk868dGoS"
      },
      "source": [
        "No, the mean etch rate for the two solutions is not equal, as $p < \\alpha$"
      ]
    },
    {
      "cell_type": "code",
      "execution_count": null,
      "metadata": {
        "colab": {
          "base_uri": "https://localhost:8080/"
        },
        "id": "TapGIhVPdGoS",
        "outputId": "6cb57b28-08a5-4f70-a829-67a69b3aa4ef"
      },
      "outputs": [
        {
          "output_type": "stream",
          "name": "stdout",
          "text": [
            "95% CI: (-0.7494660577570234, -0.11053394224297602)\n"
          ]
        }
      ],
      "source": [
        "t_alpha = t.ppf(0.975, n1+n2-2)\n",
        "ci = (xbar1 - xbar2 - t_alpha * se_coeff, xbar1 - xbar2 + t_alpha * se_coeff)\n",
        "\n",
        "print(\"95% CI:\", ci)"
      ]
    },
    {
      "cell_type": "markdown",
      "metadata": {
        "id": "JQAb3prHdGoS"
      },
      "source": [
        "## 10-21"
      ]
    },
    {
      "cell_type": "code",
      "execution_count": null,
      "metadata": {
        "colab": {
          "base_uri": "https://localhost:8080/"
        },
        "id": "vRFb7ceBdGoS",
        "outputId": "f1c84f92-7371-494f-eda7-3f32bf84c16f"
      },
      "outputs": [
        {
          "output_type": "stream",
          "name": "stdout",
          "text": [
            "P-value: 2.3874112324086073e-06\n"
          ]
        }
      ],
      "source": [
        "xbar1 = 420\n",
        "xbar2 = 426\n",
        "n1 = 21\n",
        "n2 = 21\n",
        "s1 = 4\n",
        "s2 = 3\n",
        "\n",
        "s_pool = sqrt(((n1 - 1) * s1**2 + (n2 - 1) * s2**2) / (n1 + n2 - 2))\n",
        "\n",
        "se_coeff = s_pool * sqrt(1 / n1 + 1 / n2)\n",
        "\n",
        "t_val = (xbar1 - xbar2) / se_coeff\n",
        "p = 2 * t.sf(abs(t_val), n1 + n2 - 2)\n",
        "print(\"P-value:\", p)"
      ]
    },
    {
      "cell_type": "code",
      "execution_count": null,
      "metadata": {
        "colab": {
          "base_uri": "https://localhost:8080/"
        },
        "id": "Vrn_ifYLdGoS",
        "outputId": "67b74a02-73c5-4819-9246-a28dfbcfb70b"
      },
      "outputs": [
        {
          "output_type": "stream",
          "name": "stdout",
          "text": [
            "d for OC chart: 0.375\n"
          ]
        }
      ],
      "source": [
        "d = 3 / (2 * 4)\n",
        "print(\"d for OC chart:\", d)"
      ]
    },
    {
      "cell_type": "markdown",
      "metadata": {
        "id": "Mjd793QRdGoT"
      },
      "source": [
        "$n^*=75$ , $n_1=n_2 = \\left\\lceil\\frac{n^*+1}{2}\\right\\rceil = 38$"
      ]
    },
    {
      "cell_type": "markdown",
      "metadata": {
        "id": "38xzsrPOdGoT"
      },
      "source": [
        "## 10-23"
      ]
    },
    {
      "cell_type": "code",
      "execution_count": null,
      "metadata": {
        "id": "x4kyYBb4dGoT"
      },
      "outputs": [],
      "source": [
        "xbar1 = 20\n",
        "xbar2 = 15\n",
        "n1 = 25\n",
        "n2 = 25\n",
        "s1 = 2\n",
        "s2 = 8\n",
        "\n",
        "se_coeff = sqrt(s1**2 / n1 + s2**2 / n2)\n",
        "\n",
        "nu = se_coeff**2 / ((s1**2 / n1)**2 / (n1 - 1) + (s2**2 / n2)**2 / (n2 - 1))"
      ]
    },
    {
      "cell_type": "markdown",
      "metadata": {
        "id": "6HNTNWfEdGoT"
      },
      "source": [
        "$H_0: \\mu_1 = \\mu_2$, $H_1: \\mu_1 \\neq \\mu_2$"
      ]
    },
    {
      "cell_type": "code",
      "execution_count": null,
      "metadata": {
        "colab": {
          "base_uri": "https://localhost:8080/"
        },
        "id": "ZgBMxln-dGoT",
        "outputId": "cc9254b6-9aa5-4a39-b8c7-f7e0a7dfdd28"
      },
      "outputs": [
        {
          "output_type": "stream",
          "name": "stdout",
          "text": [
            "P_value: 0.012748675794672449\n"
          ]
        }
      ],
      "source": [
        "t_val = (xbar1 - xbar2) / se_coeff\n",
        "p = 2 * t.sf(t_val, nu)\n",
        "print(\"P_value:\", p)"
      ]
    },
    {
      "cell_type": "markdown",
      "metadata": {
        "id": "QOtilzVwdGoT"
      },
      "source": [
        "Can reject $H_0$"
      ]
    },
    {
      "cell_type": "markdown",
      "metadata": {
        "id": "cfameUdZdGoT"
      },
      "source": [
        "$H_0: \\mu_1 = \\mu_2$, $H_1: \\mu_1 > \\mu_2$"
      ]
    },
    {
      "cell_type": "code",
      "execution_count": null,
      "metadata": {
        "colab": {
          "base_uri": "https://localhost:8080/"
        },
        "id": "P5pp4yEIdGoU",
        "outputId": "f7802573-6c94-4d98-c167-8c21f2ee2f5b"
      },
      "outputs": [
        {
          "output_type": "stream",
          "name": "stdout",
          "text": [
            "P_value: 0.006374337897336224\n"
          ]
        }
      ],
      "source": [
        "p = t.sf(t_val, nu)\n",
        "print(\"P_value:\", p)"
      ]
    },
    {
      "cell_type": "markdown",
      "metadata": {
        "id": "9v2KuTUHdGoU"
      },
      "source": [
        "Can reject $H_0$"
      ]
    },
    {
      "cell_type": "code",
      "execution_count": null,
      "metadata": {
        "colab": {
          "base_uri": "https://localhost:8080/"
        },
        "id": "2_KNsbTpdGoU",
        "outputId": "9f0ab1ed-3889-431c-96b8-68e7ff3b2bf1"
      },
      "outputs": [
        {
          "output_type": "stream",
          "name": "stdout",
          "text": [
            "Part a 95% CI: (1.3213488066360717, 8.678651193363928)\n",
            "Part b 95% CI: (2.008431792195389, inf)\n"
          ]
        }
      ],
      "source": [
        "t_alpha = t.ppf(0.975, nu)\n",
        "ci = (xbar1 - xbar2 - t_alpha * se_coeff, xbar1 - xbar2 + t_alpha * se_coeff)\n",
        "print(\"Part a 95% CI:\", ci)\n",
        "\n",
        "t_alpha = t.ppf(0.95, nu)\n",
        "ci = (xbar1 - xbar2 - t_alpha * se_coeff, np.inf)\n",
        "print(\"Part b 95% CI:\", ci)"
      ]
    },
    {
      "cell_type": "markdown",
      "metadata": {
        "id": "sleChV3DdGoU"
      },
      "source": [
        "## 10-29"
      ]
    },
    {
      "cell_type": "code",
      "execution_count": null,
      "metadata": {
        "colab": {
          "base_uri": "https://localhost:8080/",
          "height": 944
        },
        "id": "5nXXS12_dGoU",
        "outputId": "53b7be7d-5415-497f-f3d4-cceaf4159340"
      },
      "outputs": [
        {
          "output_type": "display_data",
          "data": {
            "text/plain": [
              "<Figure size 640x480 with 1 Axes>"
            ],
            "image/png": "[encoded data removed]"
          },
          "metadata": {}
        },
        {
          "output_type": "display_data",
          "data": {
            "text/plain": [
              "<Figure size 640x480 with 1 Axes>"
            ],
            "image/png": "[encoded data removed]"
          },
          "metadata": {}
        },
        {
          "output_type": "stream",
          "name": "stdout",
          "text": [
            "Sample standard deviations: (8.028421735033328, 10.044899203078149)\n"
          ]
        }
      ],
      "source": [
        "arr1 = np.array([275, 286, 287, 271, 283, 271, 279, 275, 263, 267])\n",
        "arr2 = np.array([258, 244, 260, 265, 273, 281, 271, 270, 263, 268])\n",
        "\n",
        "xbar1 = arr1.mean()\n",
        "xbar2 = arr2.mean()\n",
        "n1 = len(arr1)\n",
        "n2 = len(arr2)\n",
        "s1 = np.std(arr1, ddof=1)\n",
        "s2 = np.std(arr2, ddof=1)\n",
        "\n",
        "normal_probability_plot(arr1)\n",
        "normal_probability_plot(arr2)\n",
        "\n",
        "print(\"Sample standard deviations:\", (s1, s2))"
      ]
    },
    {
      "cell_type": "markdown",
      "metadata": {
        "id": "4ACVqKFfdGoU"
      },
      "source": [
        "Sample standard deviations are about the same, can conclude same variance."
      ]
    },
    {
      "cell_type": "code",
      "execution_count": null,
      "metadata": {
        "colab": {
          "base_uri": "https://localhost:8080/"
        },
        "id": "7-3-J905dGoV",
        "outputId": "f3dc5b36-6e2d-4c5f-86e8-485da20704e5"
      },
      "outputs": [
        {
          "output_type": "stream",
          "name": "stdout",
          "text": [
            "P-value: 0.019784887263473234\n"
          ]
        }
      ],
      "source": [
        "s_pool = sqrt(((n1 - 1) * s1**2 + (n2 - 1) * s2**2) / (n1 + n2 - 2))\n",
        "\n",
        "se_coeff = s_pool * sqrt(1 / n1 + 1 / n2)\n",
        "\n",
        "t_val = (xbar1 - xbar2) / se_coeff\n",
        "p = 2 * t.sf(abs(t_val), n1 + n2 - 2)\n",
        "print(\"P-value:\", p)"
      ]
    },
    {
      "cell_type": "code",
      "execution_count": null,
      "metadata": {
        "colab": {
          "base_uri": "https://localhost:8080/"
        },
        "id": "JjulPJ40dGoV",
        "outputId": "85f10e6d-9f4b-4f95-856e-8eec50476ca1"
      },
      "outputs": [
        {
          "output_type": "stream",
          "name": "stdout",
          "text": [
            "95% CI: (1.8568244113866044, 18.94317558861335)\n"
          ]
        }
      ],
      "source": [
        "t_alpha = t.ppf(0.975, n1+n2-2)\n",
        "ci = (xbar1 - xbar2 - t_alpha * se_coeff, xbar1 - xbar2 + t_alpha * se_coeff)\n",
        "\n",
        "print(\"95% CI:\", ci)"
      ]
    },
    {
      "cell_type": "code",
      "execution_count": null,
      "metadata": {
        "colab": {
          "base_uri": "https://localhost:8080/"
        },
        "id": "JJKSr4ExdGoV",
        "outputId": "b490c0d5-db28-4fdf-8d87-a7b131518587"
      },
      "outputs": [
        {
          "output_type": "stream",
          "name": "stdout",
          "text": [
            "d for OC chart: 0.27494486380847216\n"
          ]
        }
      ],
      "source": [
        "d = 5 / (2 * s_pool)\n",
        "print(\"d for OC chart:\", d)"
      ]
    },
    {
      "cell_type": "markdown",
      "metadata": {
        "id": "j5CQDwQddGoV"
      },
      "source": [
        "Power of 0.05"
      ]
    },
    {
      "cell_type": "markdown",
      "metadata": {
        "id": "bF6UYiMrdGoV"
      },
      "source": [
        "$n^*=100$, $n_1=n_2=51$"
      ]
    },
    {
      "cell_type": "markdown",
      "metadata": {
        "id": "5s3fI--_dGoV"
      },
      "source": [
        "## 10-31"
      ]
    },
    {
      "cell_type": "code",
      "execution_count": null,
      "metadata": {
        "colab": {
          "base_uri": "https://localhost:8080/"
        },
        "id": "9b8VLr7KdGoW",
        "outputId": "b89eb4ef-659e-4fe7-d1ae-9ddd05baf00c"
      },
      "outputs": [
        {
          "output_type": "stream",
          "name": "stdout",
          "text": [
            "Wilcoxon rank-sum test w2: 75.0\n"
          ]
        }
      ],
      "source": [
        "def wilcoxon_rank_sum(arr1, arr2):\n",
        "    arr1 = sorted(arr1)\n",
        "    arr2 = sorted(arr2)\n",
        "\n",
        "    arr1 = [(x, 1) for x in arr1]\n",
        "    arr2 = [(x, 2) for x in arr2]\n",
        "\n",
        "    n1 = len(arr1)\n",
        "    n2 = len(arr2)\n",
        "    i, j = 0, 0\n",
        "    rank_counter = 1\n",
        "    w1, w2 = 0, 0\n",
        "\n",
        "    sorted_list = []\n",
        "    while i < n1 and j < n2:\n",
        "        if arr1[i][0] < arr2[j][0]:\n",
        "            sorted_list.append(arr1[i])\n",
        "            i += 1\n",
        "        elif arr1[i][0] > arr2[j][0]:\n",
        "            sorted_list.append(arr2[j])\n",
        "            j += 1\n",
        "        else:\n",
        "            sorted_list.append(arr1[i])\n",
        "            sorted_list.append(arr2[j])\n",
        "            i += 1\n",
        "            j += 1\n",
        "\n",
        "    if i < n1:\n",
        "        sorted_list += arr1[i:]\n",
        "    elif j < n2:\n",
        "        sorted_list += arr2[j:]\n",
        "\n",
        "    k = 0\n",
        "    duplicates = []\n",
        "    while k < len(sorted_list):\n",
        "        current_val = sorted_list[k][0]\n",
        "        l = 0\n",
        "        counts = [0, 0]\n",
        "        while k+l < len(sorted_list) and sorted_list[k+l][0] == current_val:\n",
        "            counts[sorted_list[k+l][1] - 1] += 1\n",
        "            l += 1\n",
        "        if not sum(counts) == 0:\n",
        "            duplicates.append(tuple(counts))\n",
        "        k += max(l, 1)\n",
        "\n",
        "    rank_counter = 1\n",
        "    w1 = 0\n",
        "    w2 = 0\n",
        "    for x in duplicates:\n",
        "        count = x[0] + x[1]\n",
        "        mean_rank = (rank_counter * count + sum(list(range(count)))) / count\n",
        "        w1 += x[0] * mean_rank\n",
        "        w2 += x[1] * mean_rank\n",
        "        rank_counter += count\n",
        "\n",
        "    return (w1, w2) if n1 < n2 else (w2, w1)\n",
        "\n",
        "arr1 = [251, 255, 258, 257, 250, 251, 254, 250, 248]\n",
        "arr2 = [250, 253, 249, 256, 259, 252, 260, 251]\n",
        "n1 = len(arr1)\n",
        "n2 = len(arr2)\n",
        "\n",
        "w1, w2 = wilcoxon_rank_sum(arr1, arr2)\n",
        "\n",
        "print(\"Wilcoxon rank-sum test w2:\", w2)"
      ]
    },
    {
      "cell_type": "markdown",
      "metadata": {
        "id": "7sCN41IndGoW"
      },
      "source": [
        "$w_2 > 51$, therefore we cannot reject $H_0$"
      ]
    },
    {
      "cell_type": "code",
      "execution_count": null,
      "metadata": {
        "colab": {
          "base_uri": "https://localhost:8080/"
        },
        "id": "NgDCrRN2dGoW",
        "outputId": "08d182a0-87b8-4a55-f5a6-e01976e3eb30"
      },
      "outputs": [
        {
          "output_type": "stream",
          "name": "stdout",
          "text": [
            "P-value: 0.28185143082538655\n"
          ]
        }
      ],
      "source": [
        "mu = min(n1, n2)*(n1 + n2 + 1) / 2\n",
        "var = n1*n2*(n1 + n2 + 1) / 12\n",
        "z = (w1 - mu) / sqrt(var)\n",
        "p = norm.sf(z)\n",
        "print(\"P-value:\", p)"
      ]
    },
    {
      "cell_type": "markdown",
      "metadata": {
        "id": "6VDm7biedGoW"
      },
      "source": [
        "## 10-33"
      ]
    },
    {
      "cell_type": "code",
      "execution_count": null,
      "metadata": {
        "colab": {
          "base_uri": "https://localhost:8080/"
        },
        "id": "zJTJr5XmdGoW",
        "outputId": "f3a61aa0-e2cb-4b44-9677-40296b59534e"
      },
      "outputs": [
        {
          "output_type": "stream",
          "name": "stdout",
          "text": [
            "Wilcoxon rank-sum test w2: 77.0\n"
          ]
        }
      ],
      "source": [
        "arr1 = [25, 27, 29, 31, 30, 26, 24, 32, 33, 38]\n",
        "arr2 = [31, 33, 32, 35, 34, 29, 38, 35, 37, 30]\n",
        "\n",
        "n1 = len(arr1)\n",
        "n2 = len(arr2)\n",
        "\n",
        "w1, w2 = wilcoxon_rank_sum(arr1, arr2)\n",
        "\n",
        "print(\"Wilcoxon rank-sum test w2:\", w2)"
      ]
    },
    {
      "cell_type": "markdown",
      "metadata": {
        "id": "aHc_18UgdGoW"
      },
      "source": [
        "$w_{0.05} = 78$, $77 < 78$ therefore we can conclude a significant difference"
      ]
    },
    {
      "cell_type": "code",
      "execution_count": null,
      "metadata": {
        "colab": {
          "base_uri": "https://localhost:8080/"
        },
        "id": "4cZkFXlYdGoX",
        "outputId": "2fa9f050-c5c7-4f00-abb3-347b057d14c4"
      },
      "outputs": [
        {
          "output_type": "stream",
          "name": "stdout",
          "text": [
            "P-value: 0.034293721036492766\n"
          ]
        }
      ],
      "source": [
        "mu = min(n1, n2)*(n1 + n2 + 1) / 2\n",
        "var = n1*n2*(n1 + n2 + 1) / 12\n",
        "z = (w1 - mu) / sqrt(var)\n",
        "p = 2*norm.sf(abs(z))\n",
        "print(\"P-value:\", p)"
      ]
    },
    {
      "cell_type": "markdown",
      "metadata": {
        "id": "yFhmjDB-dGoX"
      },
      "source": [
        "## 10-39"
      ]
    },
    {
      "cell_type": "markdown",
      "metadata": {
        "id": "OT9HqjzNdGoX"
      },
      "source": [
        "$H_0: \\mu_1 = \\mu_2$, $H_1: \\mu_1 < \\mu_2$"
      ]
    },
    {
      "cell_type": "code",
      "execution_count": null,
      "metadata": {
        "colab": {
          "base_uri": "https://localhost:8080/"
        },
        "id": "mQqYs2U3dGoX",
        "outputId": "fdd877eb-0bf2-4b40-f5ac-e863ac609e64"
      },
      "outputs": [
        {
          "output_type": "stream",
          "name": "stdout",
          "text": [
            "99% CI: (-727.7238574677999, 2464.4738574678)\n"
          ]
        }
      ],
      "source": [
        "arr = [[36925,34318], [45300,42280], [36240,35500], [32100,31950], [37210,38015], [48360,47800], [38200,37810], [33500,33215]]\n",
        "d = np.array([x[0] - x[1] for x in arr])\n",
        "\n",
        "dbar = d.mean()\n",
        "sd = np.std(d, ddof=1)\n",
        "n = len(d)\n",
        "\n",
        "se_coeff = sd / sqrt(n)\n",
        "\n",
        "t_alpha = t.ppf(0.995, n-1)\n",
        "\n",
        "ci = (dbar - t_alpha * se_coeff, dbar + t_alpha * se_coeff)\n",
        "print(\"99% CI:\", ci)"
      ]
    },
    {
      "cell_type": "markdown",
      "metadata": {
        "id": "UOQfzqJldGoX"
      },
      "source": [
        "Cannot conclude that either brand is better from this test"
      ]
    },
    {
      "cell_type": "markdown",
      "metadata": {
        "id": "ZxV68whxdGoX"
      },
      "source": [
        "## 10-41"
      ]
    },
    {
      "cell_type": "markdown",
      "metadata": {
        "id": "QoUIa6ZqdGoX"
      },
      "source": [
        "$H_0: \\mu_1 = \\mu_2$, $H_1: \\mu_1 > \\mu_2$"
      ]
    },
    {
      "cell_type": "code",
      "execution_count": null,
      "metadata": {
        "colab": {
          "base_uri": "https://localhost:8080/"
        },
        "id": "JAV7jpVJdGoY",
        "outputId": "ef56724b-737f-40ad-867e-0591fa476e01"
      },
      "outputs": [
        {
          "output_type": "stream",
          "name": "stdout",
          "text": [
            "P-value: 4.157964203060584e-05\n"
          ]
        }
      ],
      "source": [
        "arr = [[265, 229],\n",
        "       [240, 231],\n",
        "       [258, 227],\n",
        "       [295, 240],\n",
        "       [251, 238],\n",
        "       [245, 241],\n",
        "       [287, 234],\n",
        "       [314, 256],\n",
        "       [260, 247],\n",
        "       [279, 239],\n",
        "       [283, 246],\n",
        "       [240, 218],\n",
        "       [238, 219],\n",
        "       [225, 226],\n",
        "       [247, 233]]\n",
        "\n",
        "d = np.array([x[0] - x[1] for x in arr])\n",
        "\n",
        "dbar = d.mean()\n",
        "n = len(d)\n",
        "s = np.std(d, ddof=1)\n",
        "\n",
        "se_coeff = s / sqrt(n)\n",
        "\n",
        "t_val = dbar / se_coeff\n",
        "\n",
        "p = t.sf(t_val, n-1)\n",
        "print(\"P-value:\", p)"
      ]
    },
    {
      "cell_type": "markdown",
      "metadata": {
        "id": "KeE5egY5dGoY"
      },
      "source": [
        "Can reject $H_0$"
      ]
    },
    {
      "cell_type": "code",
      "execution_count": null,
      "metadata": {
        "colab": {
          "base_uri": "https://localhost:8080/"
        },
        "id": "542gO1cddGoY",
        "outputId": "aa6ed6e0-d39c-4c53-c1a7-f85d2e97b56f"
      },
      "outputs": [
        {
          "output_type": "stream",
          "name": "stdout",
          "text": [
            "95% CI: (18.20921639146455, inf)\n"
          ]
        }
      ],
      "source": [
        "t_alpha = t.ppf(0.95, n-1)\n",
        "ci = (dbar - t_alpha * se_coeff, np.inf)\n",
        "\n",
        "print(\"95% CI:\", ci)"
      ]
    },
    {
      "cell_type": "markdown",
      "metadata": {
        "id": "Er-TqTz2dGoY"
      },
      "source": [
        "## 10-51"
      ]
    },
    {
      "cell_type": "markdown",
      "metadata": {
        "id": "usYMukmOdGoY"
      },
      "source": [
        "$H_0: \\sigma_1 = \\sigma_2$, $H_1: \\sigma_1 > \\sigma_2$"
      ]
    },
    {
      "cell_type": "code",
      "execution_count": null,
      "metadata": {
        "colab": {
          "base_uri": "https://localhost:8080/"
        },
        "id": "_xvIQULRdGoY",
        "outputId": "8961cf96-41d3-4a38-d83e-0b4e5396c7fd"
      },
      "outputs": [
        {
          "output_type": "stream",
          "name": "stdout",
          "text": [
            "f: 0.8055555555555556\n",
            "Critical f: 0.16670058936947557\n"
          ]
        }
      ],
      "source": [
        "s1 = sqrt(23.2)\n",
        "s2 = sqrt(28.8)\n",
        "n1 = 5\n",
        "n2 = 10\n",
        "\n",
        "f_val = s1**2/s2**2\n",
        "f_alpha = f.ppf(0.05, n1-1, n2-1)\n",
        "\n",
        "print(\"f:\", f_val)\n",
        "print(\"Critical f:\", f_alpha)"
      ]
    },
    {
      "cell_type": "markdown",
      "metadata": {
        "id": "LPT32_JMdGoZ"
      },
      "source": [
        "$f_0 > f_\\alpha$ therefore we cannot reject $H_0$"
      ]
    },
    {
      "cell_type": "code",
      "execution_count": null,
      "metadata": {
        "colab": {
          "base_uri": "https://localhost:8080/"
        },
        "id": "GAlQC8rwdGoZ",
        "outputId": "1fa2bf6d-4ce1-4e77-f2d7-2902f021ffe0"
      },
      "outputs": [
        {
          "output_type": "stream",
          "name": "stdout",
          "text": [
            "95% CI: (-inf, 4.832349775141589)\n"
          ]
        }
      ],
      "source": [
        "ci = (-np.inf, f_val / f_alpha)\n",
        "print(\"95% CI:\", ci)"
      ]
    },
    {
      "cell_type": "markdown",
      "source": [
        "## 10-53"
      ],
      "metadata": {
        "id": "BMa0H9E-fYkE"
      }
    },
    {
      "cell_type": "markdown",
      "source": [
        "$H_0: \\sigma_1 = \\sigma_2$, $H_1: \\sigma_1 < \\sigma_2$"
      ],
      "metadata": {
        "id": "7uRKRLZLfasA"
      }
    },
    {
      "cell_type": "code",
      "source": [
        "n1 = 15\n",
        "n2 = 15\n",
        "s1 = sqrt(2.3)\n",
        "s2 = sqrt(1.9)\n",
        "\n",
        "f_val = (s1 / s2)**2\n",
        "f_lower = f.ppf(0.025, n1-1, n2-1)\n",
        "f_upper = 1 / f.ppf(0.025, n2-1, n1-1)\n",
        "\n",
        "ci = (f_val * f_lower, f_val * f_upper)\n",
        "print(\"95% CI:\", ci)"
      ],
      "metadata": {
        "colab": {
          "base_uri": "https://localhost:8080/"
        },
        "id": "1vQzimZxfjre",
        "outputId": "82eab04f-73aa-4fbb-a97c-346eb525dd40"
      },
      "execution_count": null,
      "outputs": [
        {
          "output_type": "stream",
          "name": "stdout",
          "text": [
            "95% CI: (0.4064095165894036, 3.6056585818075373)\n"
          ]
        }
      ]
    },
    {
      "cell_type": "markdown",
      "source": [
        "Cannot reject $H_0$"
      ],
      "metadata": {
        "id": "kv1SXdv7gF2u"
      }
    },
    {
      "cell_type": "markdown",
      "source": [
        "$\\lambda = 2$ $\\beta = 0.2$ therefore $\\text{power} = 0.8$"
      ],
      "metadata": {
        "id": "AqYj06kPgMBX"
      }
    },
    {
      "cell_type": "markdown",
      "source": [
        "should use a sample size $31 < n_1=n_2 < 51$"
      ],
      "metadata": {
        "id": "lD8TC4LngtfN"
      }
    },
    {
      "cell_type": "markdown",
      "metadata": {
        "id": "riCe1sNcdGoZ"
      },
      "source": [
        "## 10-55"
      ]
    },
    {
      "cell_type": "markdown",
      "metadata": {
        "id": "VRt21S8HdGoZ"
      },
      "source": [
        "$H_0: \\sigma_1 = \\sigma_2$, $H_1: \\sigma_1 \\neq \\sigma_2$"
      ]
    },
    {
      "cell_type": "markdown",
      "source": [
        "t.ppf gives **LOWER TAIL** not upper tail"
      ],
      "metadata": {
        "id": "FJFf2cCoe8RU"
      }
    },
    {
      "cell_type": "code",
      "source": [
        "n1 = 25\n",
        "n2 = 21\n",
        "s1 = 0.98\n",
        "s2 = 1.02\n",
        "\n",
        "f_val = s1**2/s2**2\n",
        "f_upper = 1/f.ppf(0.01, n2-1, n1-1)\n",
        "f_lower = f.ppf(0.01, n1-1, n2-1)\n",
        "\n",
        "print(\"Test statistic:\", f_val)\n",
        "print(\"Rejection range:\", ((-np.inf, f_lower), (f_upper, np.inf)))"
      ],
      "metadata": {
        "colab": {
          "base_uri": "https://localhost:8080/"
        },
        "id": "uQhVjsyFdhTT",
        "outputId": "3e1ad6d7-4f2f-4792-fe9d-e4bbd9ce2e4c"
      },
      "execution_count": null,
      "outputs": [
        {
          "output_type": "stream",
          "name": "stdout",
          "text": [
            "Test statistic: 0.9231064975009611\n",
            "Rejection range: ((-inf, 0.36523046383826424), (2.859363264052209, inf))\n"
          ]
        }
      ]
    },
    {
      "cell_type": "markdown",
      "source": [
        "Test statistic not in rejection range, therefore cannot reject $H_0$"
      ],
      "metadata": {
        "id": "V8qFYkxKe0nM"
      }
    },
    {
      "cell_type": "code",
      "source": [
        "ci = (f_val * f_lower, f_val * f_upper)\n",
        "print(\"98% CI:\", ci)"
      ],
      "metadata": {
        "colab": {
          "base_uri": "https://localhost:8080/"
        },
        "id": "0JcsK1K6eyLd",
        "outputId": "151c9968-dcc6-460a-c398-52f5fbe67fc1"
      },
      "execution_count": null,
      "outputs": [
        {
          "output_type": "stream",
          "name": "stdout",
          "text": [
            "98% CI: (0.3371466142543915, 2.6394968077621503)\n"
          ]
        }
      ]
    },
    {
      "cell_type": "markdown",
      "source": [
        "## 10-69"
      ],
      "metadata": {
        "id": "Fsu6F6TShZ1v"
      }
    },
    {
      "cell_type": "code",
      "source": [
        "p1 = 0.53\n",
        "p2 = 0.46\n",
        "n = 2020\n",
        "\n",
        "p_hat = (p1 * n + p2 * n) / (2 * n)\n",
        "\n",
        "se_coeff = sqrt(p_hat * (1 - p_hat) * 2 / 2020)\n",
        "\n",
        "z = (p1 - p2) / se_coeff\n",
        "p = 2 * norm.sf(z)\n",
        "print(\"P-value:\", p)"
      ],
      "metadata": {
        "colab": {
          "base_uri": "https://localhost:8080/"
        },
        "id": "nvIHnVCAhc8k",
        "outputId": "8e7051c1-462d-40d4-e555-a0387f9a32e6"
      },
      "execution_count": null,
      "outputs": [
        {
          "output_type": "stream",
          "name": "stdout",
          "text": [
            "P-value: 8.60736024810541e-06\n"
          ]
        }
      ]
    },
    {
      "cell_type": "markdown",
      "source": [
        "Can reject $H_0$ as $p < \\alpha$"
      ],
      "metadata": {
        "id": "Yopnm0jei_ve"
      }
    },
    {
      "cell_type": "code",
      "source": [
        "z_alpha = norm.ppf(0.975)\n",
        "\n",
        "ci = (p1 - p2 - z_alpha * se_coeff, p1 - p2 + z_alpha * se_coeff)\n",
        "print(\"95% CI:\", ci)"
      ],
      "metadata": {
        "colab": {
          "base_uri": "https://localhost:8080/"
        },
        "id": "hqMjeTqQix4E",
        "outputId": "b3942d2f-7ef6-4c4c-8206-ee4b78f6fb2c"
      },
      "execution_count": null,
      "outputs": [
        {
          "output_type": "stream",
          "name": "stdout",
          "text": [
            "95% CI: (0.03916558646379348, 0.10083441353620654)\n"
          ]
        }
      ]
    },
    {
      "cell_type": "markdown",
      "source": [
        "$0 \\notin \\text{CI}$ therefore can reject $H_0$ and conclude there is a significant difference between the two populations"
      ],
      "metadata": {
        "id": "wJszl3Poi_Ob"
      }
    },
    {
      "cell_type": "markdown",
      "source": [
        "## 11-1"
      ],
      "metadata": {
        "id": "jjwFLlCkjXXN"
      }
    },
    {
      "cell_type": "code",
      "source": [
        "n = 14\n",
        "sy = 572\n",
        "syy = 23530\n",
        "sx = 43\n",
        "sxx = 157.42\n",
        "sxy = 1697.8\n",
        "\n",
        "beta_1 = (sxy - sx*sy / n) / (sxx - sx**2 / n)\n",
        "beta_0 = sy / n - beta_1 * sx / n\n",
        "\n",
        "x = np.array([0, 5])\n",
        "y = beta_1 * x + beta_0\n",
        "\n",
        "plt.plot(x,y)\n",
        "plt.title(\"Linear Regression\")\n",
        "plt.xlabel(\"Compressive Strength\")\n",
        "plt.ylabel(\"Permeability\")\n",
        "plt.show()\n",
        "\n",
        "sse = syy - beta_1 * sxy\n",
        "sigma_squared = sse / (n - 2)\n",
        "print(\"Sigma squared:\", sigma_squared)"
      ],
      "metadata": {
        "colab": {
          "base_uri": "https://localhost:8080/",
          "height": 489
        },
        "id": "n5dQdNMSjY-a",
        "outputId": "d0c863ab-62e7-476e-f3e3-b306960cf967"
      },
      "execution_count": null,
      "outputs": [
        {
          "output_type": "display_data",
          "data": {
            "text/plain": [
              "<Figure size 640x480 with 1 Axes>"
            ],
            "image/png": "[encoded data removed]"
          },
          "metadata": {}
        },
        {
          "output_type": "stream",
          "name": "stdout",
          "text": [
            "Sigma squared: 2290.4614329726487\n"
          ]
        }
      ]
    },
    {
      "cell_type": "code",
      "source": [
        "y_43 = beta_0 + beta_1 * 4.3\n",
        "print(\"Value at x = 4.3:\", y_43)"
      ],
      "metadata": {
        "colab": {
          "base_uri": "https://localhost:8080/"
        },
        "id": "N6WxVvXEnohP",
        "outputId": "6bc98e55-3f38-4cdc-f96c-bc650026ffbd"
      },
      "execution_count": null,
      "outputs": [
        {
          "output_type": "stream",
          "name": "stdout",
          "text": [
            "Value at x = 4.3: 37.99481514878268\n"
          ]
        }
      ]
    },
    {
      "cell_type": "code",
      "source": [
        "y_37 = beta_0 + beta_1 * 3.7\n",
        "print(\"Value at x = 3.7:\", y_37)"
      ],
      "metadata": {
        "colab": {
          "base_uri": "https://localhost:8080/"
        },
        "id": "JQs2fLOEnwrb",
        "outputId": "a9631a41-602c-4f41-cced-27857bf7867a"
      },
      "execution_count": null,
      "outputs": [
        {
          "output_type": "stream",
          "name": "stdout",
          "text": [
            "Value at x = 3.7: 39.392696122633\n"
          ]
        }
      ]
    },
    {
      "cell_type": "code",
      "source": [
        "r = 46.1 - y_37\n",
        "print(\"Residual:\", r)"
      ],
      "metadata": {
        "colab": {
          "base_uri": "https://localhost:8080/"
        },
        "id": "gorEOWLnn-Jg",
        "outputId": "ad5dca6e-c53d-4592-8703-69140c45438f"
      },
      "execution_count": null,
      "outputs": [
        {
          "output_type": "stream",
          "name": "stdout",
          "text": [
            "Residual: 6.7073038773670035\n"
          ]
        }
      ]
    }
  ],
  "metadata": {
    "kernelspec": {
      "display_name": "Python 3",
      "language": "python",
      "name": "python3"
    },
    "language_info": {
      "codemirror_mode": {
        "name": "ipython",
        "version": 3
      },
      "file_extension": ".py",
      "mimetype": "text/x-python",
      "name": "python",
      "nbconvert_exporter": "python",
      "pygments_lexer": "ipython3",
      "version": "3.8.10"
    },
    "colab": {
      "provenance": []
    }
  },
  "nbformat": 4,
  "nbformat_minor": 0
}