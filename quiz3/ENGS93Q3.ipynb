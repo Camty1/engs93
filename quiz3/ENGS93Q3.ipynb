{
 "cells": [
  {
   "cell_type": "markdown",
   "metadata": {},
   "source": [
    "# ENGS 93 Quiz 3 Practice\n",
    "Cameron Wolfe 2/22/2024"
   ]
  },
  {
   "cell_type": "code",
   "execution_count": 1,
   "metadata": {},
   "outputs": [],
   "source": [
    "import numpy as np\n",
    "from scipy.stats import t, norm, chi2\n",
    "from math import sqrt, exp, ceil, floor\n",
    "import matplotlib.pyplot as plt"
   ]
  },
  {
   "cell_type": "markdown",
   "metadata": {},
   "source": [
    "## 10-1"
   ]
  },
  {
   "cell_type": "code",
   "execution_count": 2,
   "metadata": {},
   "outputs": [
    {
     "name": "stdout",
     "output_type": "stream",
     "text": [
      "P-value: 0.3640964293652712\n"
     ]
    }
   ],
   "source": [
    "xbar1 = 4.7\n",
    "xbar2 = 7.8\n",
    "n1 = 10\n",
    "n2 = 15\n",
    "sigma1 = 10\n",
    "sigma2 = 5\n",
    "\n",
    "se_coeff = sqrt(sigma1**2 / n1 + sigma2**2 / n2)\n",
    "\n",
    "z = (xbar1 - xbar2) / se_coeff\n",
    "p = 2 * norm.sf(abs(z))\n",
    "print(\"P-value:\", p)"
   ]
  },
  {
   "cell_type": "markdown",
   "metadata": {},
   "source": [
    "Cannot reject $H_0$ as $p > \\alpha$"
   ]
  },
  {
   "cell_type": "code",
   "execution_count": 3,
   "metadata": {},
   "outputs": [
    {
     "name": "stdout",
     "output_type": "stream",
     "text": [
      "95% CI: (-9.794551484211977, 3.594551484211978)\n"
     ]
    }
   ],
   "source": [
    "z_alpha = norm.ppf(0.975)\n",
    "ci = (xbar1 - xbar2 - z_alpha * se_coeff, xbar1 - xbar2 + z_alpha * se_coeff)\n",
    "print(\"95% CI:\", ci)"
   ]
  },
  {
   "cell_type": "markdown",
   "metadata": {},
   "source": [
    "Because 0 is in 95% CI, cannot reject $H_0$"
   ]
  },
  {
   "cell_type": "code",
   "execution_count": 4,
   "metadata": {},
   "outputs": [
    {
     "name": "stdout",
     "output_type": "stream",
     "text": [
      "Power: 0.14197107914234097\n"
     ]
    }
   ],
   "source": [
    "beta = norm.cdf(z_alpha - 3 / se_coeff) - norm.cdf(-z_alpha - 3 / se_coeff)\n",
    "print(\"Power:\", 1-beta) "
   ]
  },
  {
   "cell_type": "code",
   "execution_count": 5,
   "metadata": {},
   "outputs": [
    {
     "name": "stdout",
     "output_type": "stream",
     "text": [
      "Sample size needed: 181\n"
     ]
    }
   ],
   "source": [
    "z_beta = norm.ppf(0.95)\n",
    "n = ceil((z_alpha + z_beta)**2 * (sigma1**2 + sigma2**2) / 3 ** 2)\n",
    "print(\"Sample size needed:\", n)"
   ]
  },
  {
   "cell_type": "markdown",
   "metadata": {},
   "source": [
    "## 10-3"
   ]
  },
  {
   "cell_type": "code",
   "execution_count": 6,
   "metadata": {},
   "outputs": [
    {
     "name": "stdout",
     "output_type": "stream",
     "text": [
      "P-value: 0.17441424161364644\n"
     ]
    }
   ],
   "source": [
    "xbar1 = 24.5\n",
    "xbar2 = 21.3\n",
    "n1 = 10\n",
    "n2 = 15\n",
    "sigma1 = 10\n",
    "sigma2 = 5\n",
    "\n",
    "se_coeff = sqrt(sigma1**2 / n1 + sigma2**2 / n2)\n",
    "\n",
    "z = (xbar1 - xbar2) / se_coeff\n",
    "p = norm.sf(z)\n",
    "print(\"P-value:\", p)"
   ]
  },
  {
   "cell_type": "markdown",
   "metadata": {},
   "source": [
    "Cannot reject $H_0$ as $p > \\alpha$"
   ]
  },
  {
   "cell_type": "code",
   "execution_count": 7,
   "metadata": {},
   "outputs": [
    {
     "name": "stdout",
     "output_type": "stream",
     "text": [
      "95% CI: (-4.7459907099304255, inf)\n"
     ]
    }
   ],
   "source": [
    "z_alpha = norm.ppf(0.99)\n",
    "ci = (xbar1 - xbar2 - z_alpha * se_coeff, np.inf)\n",
    "print(\"95% CI:\", ci)"
   ]
  },
  {
   "cell_type": "markdown",
   "metadata": {},
   "source": [
    "Because 0 is contained within the CI, we cannot reject $H_0$"
   ]
  },
  {
   "cell_type": "code",
   "execution_count": 8,
   "metadata": {},
   "outputs": [
    {
     "name": "stdout",
     "output_type": "stream",
     "text": [
      "Power: 0.042654892076773865\n"
     ]
    }
   ],
   "source": [
    "beta = norm.cdf(z_alpha - 2 / se_coeff) - norm.cdf(-z_alpha - 2 / se_coeff)\n",
    "print(\"Power:\", 1-beta) "
   ]
  },
  {
   "cell_type": "code",
   "execution_count": 9,
   "metadata": {},
   "outputs": [
    {
     "name": "stdout",
     "output_type": "stream",
     "text": [
      "Sample size needed: 151\n"
     ]
    }
   ],
   "source": [
    "z_alpha = norm.ppf(0.95)\n",
    "z_beta = norm.ppf(0.95)\n",
    "n = ceil((z_alpha + z_beta)**2 * (sigma1**2 + sigma2**2) / 3 ** 2)\n",
    "print(\"Sample size needed:\", n)"
   ]
  },
  {
   "cell_type": "markdown",
   "metadata": {},
   "source": [
    "## 10-5"
   ]
  },
  {
   "cell_type": "markdown",
   "metadata": {},
   "source": [
    "$H_0$: $\\mu_1 - \\mu_2 = 10$, $H_1$: $\\Delta\\mu > 10$"
   ]
  },
  {
   "cell_type": "code",
   "execution_count": 10,
   "metadata": {},
   "outputs": [
    {
     "name": "stdout",
     "output_type": "stream",
     "text": [
      "P-value: 0.9999999973701791\n"
     ]
    }
   ],
   "source": [
    "xbar1 = 162.5\n",
    "xbar2 = 155.0\n",
    "n1 = 10\n",
    "n2 = 12\n",
    "sigma1 = 1\n",
    "sigma2 = 1\n",
    "\n",
    "delta_mu = 10\n",
    "\n",
    "se_coeff = sqrt(sigma1**2 / n1 + sigma2**2 / n2)\n",
    "\n",
    "z = (xbar1 - xbar2 - 10) / se_coeff\n",
    "p = norm.sf(z)\n",
    "print(\"P-value:\", p)"
   ]
  },
  {
   "cell_type": "markdown",
   "metadata": {},
   "source": [
    "Cannot reject $H_0$, therefore they should not use plastic 1"
   ]
  },
  {
   "cell_type": "code",
   "execution_count": 11,
   "metadata": {},
   "outputs": [
    {
     "name": "stdout",
     "output_type": "stream",
     "text": [
      "95% CI: (6.795715753464915, inf)\n"
     ]
    }
   ],
   "source": [
    "z_alpha = norm.ppf(0.95)\n",
    "ci = (xbar1 - xbar2 - z_alpha * se_coeff, np.inf)\n",
    "print(\"95% CI:\", ci)"
   ]
  },
  {
   "cell_type": "code",
   "execution_count": 12,
   "metadata": {},
   "outputs": [
    {
     "name": "stdout",
     "output_type": "stream",
     "text": [
      "Power: 0.9987615122284447\n"
     ]
    }
   ],
   "source": [
    "beta = norm.cdf(z_alpha - 2 / se_coeff)\n",
    "print(\"Power:\", 1-beta) "
   ]
  },
  {
   "cell_type": "markdown",
   "metadata": {},
   "source": [
    "Yes, the sample sizes are sufficient, as the power is basically 1, meaning that you are nearly guaranteed to detect a difference in means"
   ]
  },
  {
   "cell_type": "markdown",
   "metadata": {},
   "source": [
    "## 10-7"
   ]
  },
  {
   "cell_type": "markdown",
   "metadata": {},
   "source": [
    "$H_0$: $\\mu_1 = \\mu_2$, $H_1$: $\\mu_1 < \\mu_2$"
   ]
  },
  {
   "cell_type": "code",
   "execution_count": 13,
   "metadata": {},
   "outputs": [
    {
     "name": "stdout",
     "output_type": "stream",
     "text": [
      "P-value: 2.083858158671828e-13\n"
     ]
    }
   ],
   "source": [
    "xbar1 = 89.6\n",
    "xbar2 = 92.5\n",
    "n1 = 15\n",
    "n2 = 20\n",
    "sigma1 = sqrt(1.5)\n",
    "sigma2 = sqrt(1.2)\n",
    "\n",
    "se_coeff = sqrt(sigma1**2 / n1 + sigma2**2 / n2)\n",
    "\n",
    "z = (xbar1 - xbar2) / se_coeff\n",
    "p = norm.cdf(z)\n",
    "print(\"P-value:\", p)"
   ]
  },
  {
   "cell_type": "markdown",
   "metadata": {},
   "source": [
    "We can reject $H_0$ and conclude that $\\mu_2 > \\mu_1$"
   ]
  },
  {
   "cell_type": "code",
   "execution_count": 14,
   "metadata": {},
   "outputs": [
    {
     "name": "stdout",
     "output_type": "stream",
     "text": [
      "95% CI: (-inf, -1.9694608503836695)\n"
     ]
    }
   ],
   "source": [
    "z_alpha = norm.ppf(0.99)\n",
    "ci = (-np.inf, xbar1 - xbar2 + z_alpha * se_coeff)\n",
    "print(\"95% CI:\", ci)"
   ]
  },
  {
   "cell_type": "markdown",
   "metadata": {},
   "source": [
    "Because $0\\notin CI$, we can reject $H_0$"
   ]
  },
  {
   "cell_type": "code",
   "execution_count": 15,
   "metadata": {},
   "outputs": [
    {
     "name": "stdout",
     "output_type": "stream",
     "text": [
      "Sample size needed: 11\n"
     ]
    }
   ],
   "source": [
    "E = 1\n",
    "z_alpha = norm.ppf(0.975)\n",
    "\n",
    "n = (z_alpha**2 / E) * (sigma1**2 + sigma2**2)\n",
    "print(\"Sample size needed:\", ceil(n))"
   ]
  },
  {
   "cell_type": "markdown",
   "metadata": {},
   "source": [
    "## 10-9"
   ]
  },
  {
   "cell_type": "code",
   "execution_count": 16,
   "metadata": {},
   "outputs": [
    {
     "name": "stdout",
     "output_type": "stream",
     "text": [
      "P-value: 0.017072661093788775\n",
      "95% CI: (-5.829567621729733, -0.5704323782702438)\n"
     ]
    }
   ],
   "source": [
    "arr1 = np.array([57.9, 66.2, 65.4, 65.4, 65.2, 62.6, 67.6, 63.7, 67.2, 71.0])\n",
    "arr2 = np.array([66.4, 71.7, 70.3, 69.3, 64.8, 69.6, 68.6, 69.4, 65.3, 68.8])\n",
    "\n",
    "xbar1 = arr1.mean()\n",
    "xbar2 = arr2.mean()\n",
    "n1 = len(arr1)\n",
    "n2 = len(arr2)\n",
    "sigma1 = 3\n",
    "sigma2 = 3\n",
    "\n",
    "se_coeff = sqrt(sigma1**2 / n1 + sigma2**2 / n2)\n",
    "\n",
    "z = (xbar1 - xbar2) / se_coeff\n",
    "p = 2 * norm.sf(abs(z))\n",
    "print(\"P-value:\", p)\n",
    "\n",
    "z_alpha = norm.ppf(0.975)\n",
    "ci = (xbar1 - xbar2 - z_alpha * se_coeff, xbar1 - xbar2 + z_alpha * se_coeff)\n",
    "print(\"95% CI:\", ci)"
   ]
  },
  {
   "cell_type": "markdown",
   "metadata": {},
   "source": [
    "Yes is does, as 0 difference in mean active concentration is not within the 95% CI, therefore there is a statistically significant difference between the two quantities"
   ]
  },
  {
   "cell_type": "code",
   "execution_count": 17,
   "metadata": {},
   "outputs": [
    {
     "name": "stdout",
     "output_type": "stream",
     "text": [
      "Power: 0.9613704804982451\n"
     ]
    }
   ],
   "source": [
    "beta = norm.cdf(z_alpha - 5 / se_coeff) - norm.cdf(-z_alpha - 5 / se_coeff)\n",
    "print(\"Power:\", 1-beta)"
   ]
  },
  {
   "cell_type": "markdown",
   "metadata": {},
   "source": [
    "I would consider this to be inadequate, as the chance of a Type II error is around 50%, which is way too high."
   ]
  },
  {
   "cell_type": "code",
   "execution_count": 18,
   "metadata": {},
   "outputs": [
    {
     "data": {
      "image/png": "[encoded data removed]",
      "text/plain": [
       "<Figure size 640x480 with 1 Axes>"
      ]
     },
     "metadata": {},
     "output_type": "display_data"
    },
    {
     "data": {
      "image/png": "[encoded data removed]",
      "text/plain": [
       "<Figure size 640x480 with 1 Axes>"
      ]
     },
     "metadata": {},
     "output_type": "display_data"
    }
   ],
   "source": [
    "def normal_probability_plot(data_array: np.ndarray) -> None:\n",
    "    sorted_array = np.sort(data_array.flatten())\n",
    "\n",
    "    n = len(sorted_array)\n",
    "\n",
    "    z = np.zeros(n)\n",
    "\n",
    "    for i in range(n):\n",
    "        z[i] = norm.ppf((i + 0.5) / n)\n",
    "\n",
    "    plt.scatter(sorted_array, z)\n",
    "    plt.title(\"Normal Probability Plot\")\n",
    "    plt.xlabel(\"Values\")\n",
    "    plt.ylabel(\"Z value\")\n",
    "    plt.show()\n",
    "\n",
    "normal_probability_plot(arr1)\n",
    "normal_probability_plot(arr2)"
   ]
  },
  {
   "cell_type": "markdown",
   "metadata": {},
   "source": [
    "Both data sets appear to be normally distributed"
   ]
  },
  {
   "cell_type": "markdown",
   "metadata": {},
   "source": [
    "## 10-13"
   ]
  },
  {
   "cell_type": "code",
   "execution_count": 19,
   "metadata": {},
   "outputs": [
    {
     "name": "stdout",
     "output_type": "stream",
     "text": [
      "P-value: 0.031540216910763794\n"
     ]
    }
   ],
   "source": [
    "xbar1 = 6.2\n",
    "xbar2 = 7.8\n",
    "n1 = 15\n",
    "n2 = 15\n",
    "s1 = sqrt(4)\n",
    "s2 = sqrt(6.25)\n",
    "\n",
    "s_pool = sqrt(((n1 - 1) * s1**2 + (n2 - 1) * s2**2) / (n1 + n2 - 2))\n",
    "\n",
    "se_coeff = s_pool * sqrt(1 / n1 + 1 / n2)\n",
    "\n",
    "t_val = (xbar1 - xbar2) / se_coeff\n",
    "p = t.cdf(t_val, n1 + n2 - 2)\n",
    "print(\"P-value:\", p)"
   ]
  },
  {
   "cell_type": "markdown",
   "metadata": {},
   "source": [
    "We can reject $H_0$"
   ]
  },
  {
   "cell_type": "code",
   "execution_count": 20,
   "metadata": {},
   "outputs": [
    {
     "name": "stdout",
     "output_type": "stream",
     "text": [
      "95% CI: (-inf, -0.19377749107656195)\n"
     ]
    }
   ],
   "source": [
    "t_alpha = t.ppf(0.95, n1 + n2 - 2)\n",
    "ci = (-np.inf, xbar1 - xbar2 + t_alpha * se_coeff)\n",
    "\n",
    "print(\"95% CI:\", ci)"
   ]
  },
  {
   "cell_type": "markdown",
   "metadata": {},
   "source": [
    "$0 \\in CI$ therefore cannot reject $H_0$"
   ]
  },
  {
   "cell_type": "code",
   "execution_count": 21,
   "metadata": {},
   "outputs": [
    {
     "name": "stdout",
     "output_type": "stream",
     "text": [
      "1.9280193391888722\n",
      "Power: 0.9679747113700826\n"
     ]
    }
   ],
   "source": [
    "print(3 / se_coeff - t_alpha)\n",
    "beta = t.sf(3 / se_coeff - t_alpha, n1 + n2 - 2)\n",
    "print(\"Power:\", 1-beta)"
   ]
  },
  {
   "cell_type": "code",
   "execution_count": 22,
   "metadata": {},
   "outputs": [
    {
     "name": "stdout",
     "output_type": "stream",
     "text": [
      "d for OC Curve: 0.5521576303742327\n"
     ]
    }
   ],
   "source": [
    "d = 2.5 / (2 * s_pool)\n",
    "print(\"d for OC Curve:\", d)"
   ]
  },
  {
   "cell_type": "markdown",
   "metadata": {},
   "source": [
    "$n^* = 40, n_1 = n_2 = \\left\\lceil\\frac{n^*+1}{2}\\right\\rceil = 21$"
   ]
  },
  {
   "cell_type": "markdown",
   "metadata": {},
   "source": [
    "## 10-15"
   ]
  },
  {
   "cell_type": "markdown",
   "metadata": {},
   "source": [
    "$H_0$: $\\mu_1=\\mu_2$, $H_1$: $\\mu_1\\neq\\mu_2$"
   ]
  },
  {
   "cell_type": "code",
   "execution_count": 23,
   "metadata": {},
   "outputs": [
    {
     "name": "stdout",
     "output_type": "stream",
     "text": [
      "P-value: 0.8196697157339579\n"
     ]
    }
   ],
   "source": [
    "xbar1 = 8.73\n",
    "xbar2 = 8.68\n",
    "n1 = 15\n",
    "n2 = 17\n",
    "s1 = sqrt(0.35)\n",
    "s2 = sqrt(0.40)\n",
    "\n",
    "s_pool = sqrt(((n1 - 1) * s1**2 + (n2 - 1) * s2**2) / (n1 + n2 - 2))\n",
    "\n",
    "se_coeff = s_pool * sqrt(1 / n1 + 1 / n2)\n",
    "\n",
    "t_val = (xbar1 - xbar2) / se_coeff\n",
    "p = 2 * t.sf(abs(t_val), n1 + n2 - 2)\n",
    "print(\"P-value:\", p)"
   ]
  },
  {
   "cell_type": "markdown",
   "metadata": {},
   "source": [
    "Cannot reject $H_0$, insufficient evidence to claim machines produce different mean diameters"
   ]
  },
  {
   "cell_type": "code",
   "execution_count": 24,
   "metadata": {},
   "outputs": [
    {
     "name": "stdout",
     "output_type": "stream",
     "text": [
      "95% CI: (-0.39401452100926715, 0.49401452100926857)\n"
     ]
    }
   ],
   "source": [
    "t_alpha = t.ppf(0.975, n1+n2-2)\n",
    "ci = (xbar1 - xbar2 - t_alpha * se_coeff, xbar1 - xbar2 + t_alpha * se_coeff)\n",
    "\n",
    "print(\"95% CI:\", ci)"
   ]
  },
  {
   "cell_type": "markdown",
   "metadata": {},
   "source": [
    "Because 0 is in the CI, we cannot conclude that there is a significant difference between the machines"
   ]
  },
  {
   "cell_type": "markdown",
   "metadata": {},
   "source": [
    "## 10-17"
   ]
  },
  {
   "cell_type": "code",
   "execution_count": 25,
   "metadata": {},
   "outputs": [
    {
     "name": "stdout",
     "output_type": "stream",
     "text": [
      "P-value: 0.002309560748636289\n"
     ]
    }
   ],
   "source": [
    "xbar1 = 86\n",
    "xbar2 = 89\n",
    "n1 = 12\n",
    "n2 = 15\n",
    "s1 = 3\n",
    "s2 = 2\n",
    "\n",
    "s_pool = sqrt(((n1 - 1) * s1**2 + (n2 - 1) * s2**2) / (n1 + n2 - 2))\n",
    "\n",
    "se_coeff = s_pool * sqrt(1 / n1 + 1 / n2)\n",
    "\n",
    "t_val = (xbar1 - xbar2) / se_coeff\n",
    "p = t.cdf(t_val, n1 + n2 - 2)\n",
    "print(\"P-value:\", p)"
   ]
  },
  {
   "cell_type": "markdown",
   "metadata": {},
   "source": [
    "Yes, we can reject $H_0$ as $P < \\alpha$"
   ]
  },
  {
   "cell_type": "code",
   "execution_count": 26,
   "metadata": {},
   "outputs": [
    {
     "name": "stdout",
     "output_type": "stream",
     "text": [
      "95% CI: (-inf, -0.6034494296702118)\n"
     ]
    }
   ],
   "source": [
    "t_alpha = t.ppf(0.99, n1+n2-2)\n",
    "ci = (-np.inf, xbar1 - xbar2 + t_alpha * se_coeff)\n",
    "\n",
    "print(\"95% CI:\", ci)"
   ]
  },
  {
   "cell_type": "markdown",
   "metadata": {},
   "source": [
    "## 10-19"
   ]
  },
  {
   "cell_type": "code",
   "execution_count": 27,
   "metadata": {},
   "outputs": [
    {
     "data": {
      "image/png": "[encoded data removed]",
      "text/plain": [
       "<Figure size 640x480 with 1 Axes>"
      ]
     },
     "metadata": {},
     "output_type": "display_data"
    },
    {
     "data": {
      "image/png": "[encoded data removed]",
      "text/plain": [
       "<Figure size 640x480 with 1 Axes>"
      ]
     },
     "metadata": {},
     "output_type": "display_data"
    }
   ],
   "source": [
    "arr1 = np.array([9.9, 10.6, 9.4, 10.3, 9.3, 10.0, 9.6, 10.3, 10.2, 10.1])\n",
    "arr2 = np.array([10.2, 10.0, 10.6, 10.2, 10.7, 10.7, 10.4, 10.4, 10.5, 10.3])\n",
    "\n",
    "xbar1 = arr1.mean()\n",
    "xbar2 = arr2.mean()\n",
    "n1 = len(arr1)\n",
    "n2 = len(arr2)\n",
    "s1 = np.std(arr1, ddof=1)\n",
    "s2 = np.std(arr2, ddof=1)\n",
    "\n",
    "normal_probability_plot(arr1)\n",
    "normal_probability_plot(arr2)"
   ]
  },
  {
   "cell_type": "markdown",
   "metadata": {},
   "source": [
    "Both samples appear to be normally distributed"
   ]
  },
  {
   "cell_type": "code",
   "execution_count": 28,
   "metadata": {},
   "outputs": [
    {
     "name": "stdout",
     "output_type": "stream",
     "text": [
      "P-value: 0.011150646764286247\n"
     ]
    }
   ],
   "source": [
    "s_pool = sqrt(((n1 - 1) * s1**2 + (n2 - 1) * s2**2) / (n1 + n2 - 2))\n",
    "\n",
    "se_coeff = s_pool * sqrt(1 / n1 + 1 / n2)\n",
    "\n",
    "t_val = (xbar1 - xbar2) / se_coeff\n",
    "p = 2 * t.sf(abs(t_val), n1 + n2 - 2)\n",
    "print(\"P-value:\", p)"
   ]
  },
  {
   "cell_type": "markdown",
   "metadata": {},
   "source": [
    "No, the mean etch rate for the two solutions is not equal, as $p < \\alpha$"
   ]
  },
  {
   "cell_type": "code",
   "execution_count": 29,
   "metadata": {},
   "outputs": [
    {
     "name": "stdout",
     "output_type": "stream",
     "text": [
      "95% CI: (-0.7494660577570234, -0.11053394224297602)\n"
     ]
    }
   ],
   "source": [
    "t_alpha = t.ppf(0.975, n1+n2-2)\n",
    "ci = (xbar1 - xbar2 - t_alpha * se_coeff, xbar1 - xbar2 + t_alpha * se_coeff)\n",
    "\n",
    "print(\"95% CI:\", ci)"
   ]
  },
  {
   "cell_type": "markdown",
   "metadata": {},
   "source": [
    "## 10-21"
   ]
  },
  {
   "cell_type": "code",
   "execution_count": 30,
   "metadata": {},
   "outputs": [
    {
     "name": "stdout",
     "output_type": "stream",
     "text": [
      "P-value: 2.3874112324086073e-06\n"
     ]
    }
   ],
   "source": [
    "xbar1 = 420\n",
    "xbar2 = 426\n",
    "n1 = 21\n",
    "n2 = 21\n",
    "s1 = 4\n",
    "s2 = 3\n",
    "\n",
    "s_pool = sqrt(((n1 - 1) * s1**2 + (n2 - 1) * s2**2) / (n1 + n2 - 2))\n",
    "\n",
    "se_coeff = s_pool * sqrt(1 / n1 + 1 / n2)\n",
    "\n",
    "t_val = (xbar1 - xbar2) / se_coeff\n",
    "p = 2 * t.sf(abs(t_val), n1 + n2 - 2)\n",
    "print(\"P-value:\", p)"
   ]
  },
  {
   "cell_type": "code",
   "execution_count": 31,
   "metadata": {},
   "outputs": [
    {
     "name": "stdout",
     "output_type": "stream",
     "text": [
      "d for OC chart: 0.375\n"
     ]
    }
   ],
   "source": [
    "d = 3 / (2 * 4)\n",
    "print(\"d for OC chart:\", d)"
   ]
  },
  {
   "cell_type": "markdown",
   "metadata": {},
   "source": [
    "$n^*=75$ , $n_1=n_2 = \\left\\lceil\\frac{n^*+1}{2}\\right\\rceil = 38$"
   ]
  },
  {
   "cell_type": "markdown",
   "metadata": {},
   "source": [
    "## 10-23"
   ]
  },
  {
   "cell_type": "code",
   "execution_count": 32,
   "metadata": {},
   "outputs": [],
   "source": [
    "xbar1 = 20\n",
    "xbar2 = 15\n",
    "n1 = 25\n",
    "n2 = 25\n",
    "s1 = 2\n",
    "s2 = 8\n",
    "\n",
    "se_coeff = sqrt(s1**2 / n1 + s2**2 / n2)\n",
    "\n",
    "nu = se_coeff**2 / ((s1**2 / n1)**2 / (n1 - 1) + (s2**2 / n2)**2 / (n2 - 1))"
   ]
  },
  {
   "cell_type": "markdown",
   "metadata": {},
   "source": [
    "$H_0: \\mu_1 = \\mu_2$, $H_1: \\mu_1 \\neq \\mu_2$"
   ]
  },
  {
   "cell_type": "code",
   "execution_count": 33,
   "metadata": {},
   "outputs": [
    {
     "name": "stdout",
     "output_type": "stream",
     "text": [
      "P_value: 0.012748675794672449\n"
     ]
    }
   ],
   "source": [
    "t_val = (xbar1 - xbar2) / se_coeff\n",
    "p = 2 * t.sf(t_val, nu)\n",
    "print(\"P_value:\", p)"
   ]
  },
  {
   "cell_type": "markdown",
   "metadata": {},
   "source": [
    "Can reject $H_0$"
   ]
  },
  {
   "cell_type": "markdown",
   "metadata": {},
   "source": [
    "$H_0: \\mu_1 = \\mu_2$, $H_1: \\mu_1 > \\mu_2$"
   ]
  },
  {
   "cell_type": "code",
   "execution_count": 34,
   "metadata": {},
   "outputs": [
    {
     "name": "stdout",
     "output_type": "stream",
     "text": [
      "P_value: 0.006374337897336224\n"
     ]
    }
   ],
   "source": [
    "p = t.sf(t_val, nu)\n",
    "print(\"P_value:\", p)"
   ]
  },
  {
   "cell_type": "markdown",
   "metadata": {},
   "source": [
    "Can reject $H_0$"
   ]
  },
  {
   "cell_type": "code",
   "execution_count": 35,
   "metadata": {},
   "outputs": [
    {
     "name": "stdout",
     "output_type": "stream",
     "text": [
      "Part a 95% CI: (1.3213488066360717, 8.678651193363928)\n",
      "Part b 95% CI: (2.008431792195389, inf)\n"
     ]
    }
   ],
   "source": [
    "t_alpha = t.ppf(0.975, nu)\n",
    "ci = (xbar1 - xbar2 - t_alpha * se_coeff, xbar1 - xbar2 + t_alpha * se_coeff)\n",
    "print(\"Part a 95% CI:\", ci)\n",
    "\n",
    "t_alpha = t.ppf(0.95, nu)\n",
    "ci = (xbar1 - xbar2 - t_alpha * se_coeff, np.inf)\n",
    "print(\"Part b 95% CI:\", ci)"
   ]
  },
  {
   "cell_type": "markdown",
   "metadata": {},
   "source": [
    "## 10-29"
   ]
  },
  {
   "cell_type": "code",
   "execution_count": 39,
   "metadata": {},
   "outputs": [
    {
     "data": {
      "image/png": "[encoded data removed]",
      "text/plain": [
       "<Figure size 640x480 with 1 Axes>"
      ]
     },
     "metadata": {},
     "output_type": "display_data"
    },
    {
     "data": {
      "image/png": "[encoded data removed]",
      "text/plain": [
       "<Figure size 640x480 with 1 Axes>"
      ]
     },
     "metadata": {},
     "output_type": "display_data"
    },
    {
     "name": "stdout",
     "output_type": "stream",
     "text": [
      "Sample standard deviations: (8.028421735033328, 10.044899203078149)\n"
     ]
    }
   ],
   "source": [
    "arr1 = np.array([275, 286, 287, 271, 283, 271, 279, 275, 263, 267])\n",
    "arr2 = np.array([258, 244, 260, 265, 273, 281, 271, 270, 263, 268])\n",
    "\n",
    "xbar1 = arr1.mean()\n",
    "xbar2 = arr2.mean()\n",
    "n1 = len(arr1)\n",
    "n2 = len(arr2)\n",
    "s1 = np.std(arr1, ddof=1)\n",
    "s2 = np.std(arr2, ddof=1)\n",
    "\n",
    "normal_probability_plot(arr1)\n",
    "normal_probability_plot(arr2)\n",
    "\n",
    "print(\"Sample standard deviations:\", (s1, s2))"
   ]
  },
  {
   "cell_type": "markdown",
   "metadata": {},
   "source": [
    "Sample standard deviations are about the same, can conclude same variance."
   ]
  },
  {
   "cell_type": "code",
   "execution_count": 40,
   "metadata": {},
   "outputs": [
    {
     "name": "stdout",
     "output_type": "stream",
     "text": [
      "P-value: 0.019784887263473234\n"
     ]
    }
   ],
   "source": [
    "s_pool = sqrt(((n1 - 1) * s1**2 + (n2 - 1) * s2**2) / (n1 + n2 - 2))\n",
    "\n",
    "se_coeff = s_pool * sqrt(1 / n1 + 1 / n2)\n",
    "\n",
    "t_val = (xbar1 - xbar2) / se_coeff\n",
    "p = 2 * t.sf(abs(t_val), n1 + n2 - 2)\n",
    "print(\"P-value:\", p)"
   ]
  },
  {
   "cell_type": "code",
   "execution_count": 41,
   "metadata": {},
   "outputs": [
    {
     "name": "stdout",
     "output_type": "stream",
     "text": [
      "95% CI: (1.8568244113866044, 18.94317558861335)\n"
     ]
    }
   ],
   "source": [
    "t_alpha = t.ppf(0.975, n1+n2-2)\n",
    "ci = (xbar1 - xbar2 - t_alpha * se_coeff, xbar1 - xbar2 + t_alpha * se_coeff)\n",
    "\n",
    "print(\"95% CI:\", ci)"
   ]
  },
  {
   "cell_type": "code",
   "execution_count": 42,
   "metadata": {},
   "outputs": [
    {
     "name": "stdout",
     "output_type": "stream",
     "text": [
      "d for OC chart: 0.27494486380847216\n"
     ]
    }
   ],
   "source": [
    "d = 5 / (2 * s_pool)\n",
    "print(\"d for OC chart:\", d)"
   ]
  },
  {
   "cell_type": "markdown",
   "metadata": {},
   "source": [
    "Power of 0.1"
   ]
  },
  {
   "cell_type": "markdown",
   "metadata": {},
   "source": [
    "Greater than 50"
   ]
  }
 ],
 "metadata": {
  "kernelspec": {
   "display_name": "Python 3",
   "language": "python",
   "name": "python3"
  },
  "language_info": {
   "codemirror_mode": {
    "name": "ipython",
    "version": 3
   },
   "file_extension": ".py",
   "mimetype": "text/x-python",
   "name": "python",
   "nbconvert_exporter": "python",
   "pygments_lexer": "ipython3",
   "version": "3.8.10"
  }
 },
 "nbformat": 4,
 "nbformat_minor": 2
}
