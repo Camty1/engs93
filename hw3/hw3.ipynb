{
 "cells": [
  {
   "cell_type": "markdown",
   "metadata": {},
   "source": [
    "# ENGS 93 HW 3\n",
    "Cameron Wolfe 2/14/2024"
   ]
  },
  {
   "cell_type": "markdown",
   "metadata": {},
   "source": [
    "## Imports and functions"
   ]
  },
  {
   "cell_type": "code",
   "execution_count": 78,
   "metadata": {},
   "outputs": [],
   "source": [
    "import numpy as np\n",
    "from scipy.stats import norm, t, chi2\n",
    "from math import sqrt, floor, exp\n",
    "import matplotlib.pyplot as plt\n",
    "from typing import Tuple\n",
    "\n",
    "def normal_probability_plot(data_array: np.ndarray) -> None:\n",
    "    sorted_array = np.sort(data_array.flatten())\n",
    "\n",
    "    n = len(sorted_array)\n",
    "\n",
    "    z = np.zeros(n)\n",
    "\n",
    "    for i in range(n):\n",
    "        z[i] = norm.ppf((i + 0.5) / n)\n",
    "\n",
    "    plt.scatter(sorted_array, z)\n",
    "    plt.title(\"Normal Probability Plot\")\n",
    "    plt.xlabel(\"Values\")\n",
    "    plt.ylabel(\"Z value\")\n",
    "    plt.show()\n",
    "\n",
    "def mean_ci(\n",
    "    sample_mean: float,\n",
    "    std: float,\n",
    "    num_samples: int,\n",
    "    interval: float = 0.95,\n",
    "    bound: str = \"centered\",\n",
    "    known_variance: bool = True,\n",
    ") -> Tuple[float, ...]:\n",
    "    valid_bounds = [\"upper\", \"centered\", \"lower\"]\n",
    "    assert bound in valid_bounds\n",
    "\n",
    "    if known_variance:\n",
    "        if bound == \"upper\":\n",
    "            z = norm.ppf(interval)\n",
    "            upper_bound = sample_mean + std * z / sqrt(num_samples)\n",
    "\n",
    "            return (-np.inf, upper_bound)\n",
    "\n",
    "        elif bound == \"centered\":\n",
    "            interval = 1 - ((1 - interval) / 2)\n",
    "            z = norm.ppf(interval)\n",
    "            upper_bound = sample_mean + std * z / sqrt(num_samples)\n",
    "            lower_bound = sample_mean - std * z / sqrt(num_samples)\n",
    "\n",
    "            return (lower_bound, upper_bound)\n",
    "\n",
    "        else:\n",
    "            z = norm.ppf(interval)\n",
    "            lower_bound = sample_mean - std * z / sqrt(num_samples)\n",
    "\n",
    "            return (lower_bound, np.inf)\n",
    "\n",
    "    else:\n",
    "        if bound == \"upper\":\n",
    "            t_val = t.ppf(interval, num_samples - 1)\n",
    "            upper_bound = sample_mean + std * t_val / sqrt(num_samples)\n",
    "\n",
    "            return (-np.inf, upper_bound)\n",
    "\n",
    "        elif bound == \"centered\":\n",
    "            interval = 1 - ((1 - interval) / 2)\n",
    "            t_val = t.ppf(interval, num_samples - 1)\n",
    "            upper_bound = sample_mean + std * t_val / sqrt(num_samples)\n",
    "            lower_bound = sample_mean - std * t_val / sqrt(num_samples)\n",
    "\n",
    "            return (lower_bound, upper_bound)\n",
    "\n",
    "        else:\n",
    "            t_val = t.ppf(interval, num_samples - 1)\n",
    "            lower_bound = sample_mean - std * t_val / sqrt(num_samples)\n",
    "\n",
    "            return (lower_bound, np.inf)\n"
   ]
  },
  {
   "cell_type": "markdown",
   "metadata": {},
   "source": [
    "## Problem 1"
   ]
  },
  {
   "cell_type": "code",
   "execution_count": 79,
   "metadata": {},
   "outputs": [
    {
     "name": "stdout",
     "output_type": "stream",
     "text": [
      "Sample mean: 11.415499999999998 | Sample std: 0.02211810403980814 | Num samples: 20\n"
     ]
    }
   ],
   "source": [
    "q1_dat = open(\"datafiles/q1.dat\", \"r\")\n",
    "q1_mu = 11.5\n",
    "q1_np = np.array([float(x) for x in q1_dat.read().split(\",\")]) + q1_mu\n",
    "q1_xbar = q1_np.mean()\n",
    "q1_s = np.std(q1_np, ddof=1)\n",
    "q1_n = len(q1_np)\n",
    "print(\"Sample mean:\", q1_xbar, \"| Sample std:\", q1_s, \"| Num samples:\", q1_n)"
   ]
  },
  {
   "cell_type": "markdown",
   "metadata": {},
   "source": [
    "### Part a"
   ]
  },
  {
   "cell_type": "code",
   "execution_count": 80,
   "metadata": {},
   "outputs": [
    {
     "name": "stdout",
     "output_type": "stream",
     "text": [
      "P-value: 5.46229728115577e-13\n"
     ]
    }
   ],
   "source": [
    "t0 = (q1_xbar - q1_mu) / (q1_s / sqrt(q1_n))\n",
    "p = 2 * (1 - t.cdf(abs(t0), q1_n - 1))\n",
    "print(\"P-value:\", p)"
   ]
  },
  {
   "cell_type": "markdown",
   "metadata": {},
   "source": [
    "Because the P-value is less than $\\alpha$, we reject the null hypothesis."
   ]
  },
  {
   "cell_type": "markdown",
   "metadata": {},
   "source": [
    "### Part b"
   ]
  },
  {
   "cell_type": "code",
   "execution_count": 81,
   "metadata": {},
   "outputs": [
    {
     "name": "stdout",
     "output_type": "stream",
     "text": [
      "d used in OC chart 4.521183181886646\n",
      "Power: 1\n"
     ]
    }
   ],
   "source": [
    "q1_d = abs(11.4 - q1_mu) / q1_s\n",
    "print(\"d used in OC chart\", q1_d)\n",
    "print(\"Power: 1\")"
   ]
  },
  {
   "cell_type": "markdown",
   "metadata": {},
   "source": [
    "### Part c"
   ]
  },
  {
   "cell_type": "code",
   "execution_count": 82,
   "metadata": {},
   "outputs": [
    {
     "name": "stdout",
     "output_type": "stream",
     "text": [
      "d used in OC chart 2.2605915909433634\n",
      "Num samples: 5\n"
     ]
    }
   ],
   "source": [
    "q1_d = abs(11.45 - q1_mu) / q1_s\n",
    "print(\"d used in OC chart\", q1_d)\n",
    "print(\"Num samples:\", 5)"
   ]
  },
  {
   "cell_type": "markdown",
   "metadata": {},
   "source": [
    "### Part d"
   ]
  },
  {
   "cell_type": "code",
   "execution_count": 83,
   "metadata": {},
   "outputs": [
    {
     "name": "stdout",
     "output_type": "stream",
     "text": [
      "95% CI: (11.405148408666673, 11.425851591333323)\n"
     ]
    }
   ],
   "source": [
    "q1_ci = mean_ci(q1_xbar, q1_s, q1_n, bound=\"centered\", known_variance=False)\n",
    "print(\"95% CI:\", q1_ci)"
   ]
  },
  {
   "cell_type": "markdown",
   "metadata": {},
   "source": [
    "Using this 95% confidence interval, we see that $\\mu$ does not lie within the interval, which would lead us to reject the null hypothesis"
   ]
  },
  {
   "cell_type": "markdown",
   "metadata": {},
   "source": [
    "### Part e"
   ]
  },
  {
   "cell_type": "code",
   "execution_count": 84,
   "metadata": {},
   "outputs": [
    {
     "data": {
      "image/png": "[encoded data removed]",
      "text/plain": [
       "<Figure size 640x480 with 1 Axes>"
      ]
     },
     "metadata": {},
     "output_type": "display_data"
    }
   ],
   "source": [
    "normal_probability_plot(q1_np)\n"
   ]
  },
  {
   "cell_type": "markdown",
   "metadata": {},
   "source": [
    "The data looks to be normally distributed"
   ]
  },
  {
   "cell_type": "markdown",
   "metadata": {},
   "source": [
    "## Problem 2"
   ]
  },
  {
   "cell_type": "code",
   "execution_count": 85,
   "metadata": {},
   "outputs": [],
   "source": [
    "q2_mu = 1000\n",
    "q2_xbar = 1050\n",
    "q2_std = 50\n",
    "q2_n = 25"
   ]
  },
  {
   "cell_type": "markdown",
   "metadata": {},
   "source": [
    "### Part a"
   ]
  },
  {
   "cell_type": "markdown",
   "metadata": {},
   "source": [
    "$H_0$: $\\mu = 1000$, $H_1$: $\\mu > 1000$"
   ]
  },
  {
   "cell_type": "code",
   "execution_count": 86,
   "metadata": {},
   "outputs": [
    {
     "name": "stdout",
     "output_type": "stream",
     "text": [
      "P-value: 2.866515718791933e-07\n"
     ]
    }
   ],
   "source": [
    "z0 = (q2_xbar - q2_mu) / (q2_std / sqrt(q2_n))\n",
    "p = norm.sf(z0)\n",
    "\n",
    "print(\"P-value:\", p)"
   ]
  },
  {
   "cell_type": "markdown",
   "metadata": {},
   "source": [
    "The P-value is less than $\\alpha$, meaning we should reject the null hypothesis.  The new process produces longer lasting lightbulbs."
   ]
  },
  {
   "cell_type": "markdown",
   "metadata": {},
   "source": [
    "### Part b"
   ]
  },
  {
   "cell_type": "code",
   "execution_count": 87,
   "metadata": {},
   "outputs": [
    {
     "name": "stdout",
     "output_type": "stream",
     "text": [
      "95% CI: (1030.4003601545994, 1069.5996398454006)\n"
     ]
    }
   ],
   "source": [
    "q2_ci = mean_ci(q2_xbar, q2_std, q2_n)\n",
    "print(\"95% CI:\", q2_ci)"
   ]
  },
  {
   "cell_type": "markdown",
   "metadata": {},
   "source": [
    "### Part c"
   ]
  },
  {
   "cell_type": "markdown",
   "metadata": {},
   "source": [
    "We would expect the mean lifespan of these lightbulbs to be in the range given above, so around 1050 hours."
   ]
  },
  {
   "cell_type": "markdown",
   "metadata": {},
   "source": [
    "## Problem 3"
   ]
  },
  {
   "cell_type": "code",
   "execution_count": 88,
   "metadata": {},
   "outputs": [],
   "source": [
    "q3_n = 15\n",
    "q3_s = 0.008\n",
    "q3_std = 0.01"
   ]
  },
  {
   "cell_type": "markdown",
   "metadata": {},
   "source": [
    "### Part a"
   ]
  },
  {
   "cell_type": "markdown",
   "metadata": {},
   "source": [
    "Assuming that the data is normally distributed.\n",
    "$H_0$: $\\sigma = 0.01$, $H_1$: $\\sigma > 0.01$"
   ]
  },
  {
   "cell_type": "code",
   "execution_count": 89,
   "metadata": {},
   "outputs": [
    {
     "name": "stdout",
     "output_type": "stream",
     "text": [
      "P-value: 0.8336044087347059\n"
     ]
    }
   ],
   "source": [
    "q3_chi2 = (q3_n - 1) * q3_s**2 / q3_std**2\n",
    "p = chi2.sf(q3_chi2, q3_n - 1)\n",
    "print(\"P-value:\", p)"
   ]
  },
  {
   "cell_type": "markdown",
   "metadata": {},
   "source": [
    "Because the P-value is greater than $\\alpha$, we do not have sufficient evidence to reject the null hypothesis."
   ]
  },
  {
   "cell_type": "markdown",
   "metadata": {},
   "source": [
    "### Part b"
   ]
  },
  {
   "cell_type": "code",
   "execution_count": 90,
   "metadata": {},
   "outputs": [
    {
     "name": "stdout",
     "output_type": "stream",
     "text": [
      "Probability of correct diagnosis is roughly 50% from OC chart\n"
     ]
    }
   ],
   "source": [
    "q3_lambda = 1.5\n",
    "print(\"Probability of correct diagnosis is roughly 50% from OC chart\")"
   ]
  },
  {
   "cell_type": "markdown",
   "metadata": {},
   "source": [
    "### Part c"
   ]
  },
  {
   "cell_type": "code",
   "execution_count": 91,
   "metadata": {},
   "outputs": [
    {
     "name": "stdout",
     "output_type": "stream",
     "text": [
      "It looks like you need either 75-100 or 100+ for a power of 80%\n"
     ]
    }
   ],
   "source": [
    "print(\"It looks like you need either 75-100 or 100+ for a power of 80%\")"
   ]
  },
  {
   "cell_type": "markdown",
   "metadata": {},
   "source": [
    "## Problem 4"
   ]
  },
  {
   "cell_type": "markdown",
   "metadata": {},
   "source": [
    "$\\Delta p = p_2 - p_1$, $H_0$: $\\Delta p = 0$, $H_1$: $\\Delta p \\neq 0$"
   ]
  },
  {
   "cell_type": "code",
   "execution_count": 92,
   "metadata": {},
   "outputs": [
    {
     "name": "stdout",
     "output_type": "stream",
     "text": [
      "P-value: 0.42847288044281684\n"
     ]
    }
   ],
   "source": [
    "q4_x1 = 70\n",
    "q4_n1 = 100\n",
    "q4_x2 = 75\n",
    "q4_n2 = 100\n",
    "q4_p1 = q4_x1 / q4_n1\n",
    "q4_p2 = q4_x2 / q4_n2\n",
    "q4_p = (q4_x1 + q4_x2) / (q4_n1 + q4_n2)\n",
    "\n",
    "z0 = (q4_p1 - q4_p2) / sqrt(q4_p * (1 - q4_p) * (1 / q4_n1 + 1 / q4_n2))\n",
    "\n",
    "p = 2 * norm.sf(abs(z0))\n",
    "\n",
    "print(\"P-value:\", p)"
   ]
  },
  {
   "cell_type": "markdown",
   "metadata": {},
   "source": [
    "Because the P-value is greater than $\\alpha$, we cannot reject the null hypothesis that the proportion of jobs meeting the specifications is the same on weekdays and weekends."
   ]
  },
  {
   "cell_type": "markdown",
   "metadata": {},
   "source": [
    "## Problem 5"
   ]
  },
  {
   "cell_type": "code",
   "execution_count": 93,
   "metadata": {},
   "outputs": [],
   "source": [
    "q5_xbar_1 = 290\n",
    "q5_xbar_2 = 321\n",
    "q5_s1 = 12\n",
    "q5_s2 = 22\n",
    "q5_n1 = 10\n",
    "q5_n2 = 16"
   ]
  },
  {
   "cell_type": "markdown",
   "metadata": {},
   "source": [
    "### Part a"
   ]
  },
  {
   "cell_type": "markdown",
   "metadata": {},
   "source": [
    "$\\Delta \\mu = \\mu_2 - \\mu_1$, $H_0$: $\\Delta \\mu = 0$, $H_1$: $\\Delta \\mu > 0$"
   ]
  },
  {
   "cell_type": "code",
   "execution_count": 94,
   "metadata": {},
   "outputs": [
    {
     "name": "stdout",
     "output_type": "stream",
     "text": [
      "P-value: 5.7187845712152476e-05\n"
     ]
    }
   ],
   "source": [
    "t0 = (q5_xbar_1 - q5_xbar_2) / sqrt(q5_s1**2 / q5_n1 + q5_s2**2 / q5_n2)\n",
    "nu = floor(\n",
    "    (q5_s1**2 / q5_n1 + q5_s2**2 / q5_n2) ** 2\n",
    "    / (\n",
    "        (q5_s1**2 / q5_n1) ** 2 / (q5_n1 - 1)\n",
    "        + (q5_s2**2 / q5_n2) ** 2 / (q5_n2 - 1)\n",
    "    )\n",
    ")\n",
    "\n",
    "p = t.sf(abs(t0), nu)\n",
    "print(\"P-value:\", p)"
   ]
  },
  {
   "cell_type": "markdown",
   "metadata": {},
   "source": [
    "Because the P-value is less than $\\alpha$, we can reject the null hypothesis and claim that manufacturer 2 produces parts with a higher durability."
   ]
  },
  {
   "cell_type": "markdown",
   "metadata": {},
   "source": [
    "### Part b"
   ]
  },
  {
   "cell_type": "code",
   "execution_count": 95,
   "metadata": {},
   "outputs": [
    {
     "name": "stdout",
     "output_type": "stream",
     "text": [
      "95% CI for difference: (28.66232907801178, inf)\n"
     ]
    }
   ],
   "source": [
    "mean_difference_ci = mean_ci(\n",
    "    q5_xbar_2 - q5_xbar_1,\n",
    "    sqrt(q5_s1**2 / q5_n1 + q5_s2**2 / q5_n2),\n",
    "    nu + 1,\n",
    "    bound=\"lower\",\n",
    "    known_variance=False,\n",
    ")\n",
    "\n",
    "print(\"95% CI for difference:\", mean_difference_ci)"
   ]
  },
  {
   "cell_type": "markdown",
   "metadata": {},
   "source": [
    "Because 0 is not included in the 95% confidence interval, we can claim that there is a difference between the two groups, rejecting the null hypothesis."
   ]
  },
  {
   "cell_type": "markdown",
   "metadata": {},
   "source": [
    "## Problem 6"
   ]
  },
  {
   "cell_type": "code",
   "execution_count": 96,
   "metadata": {},
   "outputs": [],
   "source": [
    "q6_xbar = 5.91\n",
    "q6_ybar = 21.47\n",
    "q6_s_x = 2.88\n",
    "q6_s_y = 6.75\n",
    "q6_rho = 0.9\n",
    "q6_n = 10"
   ]
  },
  {
   "cell_type": "markdown",
   "metadata": {},
   "source": [
    "### Part a"
   ]
  },
  {
   "cell_type": "code",
   "execution_count": 97,
   "metadata": {},
   "outputs": [
    {
     "name": "stdout",
     "output_type": "stream",
     "text": [
      "Regression Parameters: (9.003593749999999, 2.109375)\n"
     ]
    }
   ],
   "source": [
    "beta_1 = q6_rho * q6_s_y / q6_s_x\n",
    "beta_0 = q6_ybar - beta_1 * q6_xbar\n",
    "print(\"Regression Parameters:\", (beta_0, beta_1))"
   ]
  },
  {
   "cell_type": "markdown",
   "metadata": {},
   "source": [
    "### Part b"
   ]
  },
  {
   "cell_type": "code",
   "execution_count": 98,
   "metadata": {},
   "outputs": [
    {
     "name": "stdout",
     "output_type": "stream",
     "text": [
      "Standard error of beta 0 and beta 1: (2.3517463298942367, 0.3611961329864672)\n"
     ]
    }
   ],
   "source": [
    "sigma_squared = (\n",
    "    1\n",
    "    / (q6_n - 2)\n",
    "    * (\n",
    "        q6_n * q6_ybar**2\n",
    "        + (q6_n - 1) * q6_s_y**2\n",
    "        - 2\n",
    "        * (\n",
    "            beta_0 * q6_n * q6_ybar\n",
    "            + beta_1\n",
    "            * (\n",
    "                q6_n * q6_xbar * q6_ybar\n",
    "                + (q6_n - 1) * q6_rho * q6_s_x * q6_s_y\n",
    "            )\n",
    "        )\n",
    "        + q6_n * beta_0**2\n",
    "        + 2 * q6_n * beta_0 * beta_1 * q6_xbar\n",
    "        + beta_1**2 * (q6_n * q6_xbar**2 + (q6_n - 1) * q6_s_x**2)\n",
    "    )\n",
    ")\n",
    "\n",
    "se_0 = sqrt(\n",
    "    sigma_squared * (1 / q6_n + q6_xbar**2 / ((q6_n - 1) * q6_s_x**2))\n",
    ")\n",
    "se_1 = sqrt(sigma_squared / ((q6_n - 1) * q6_s_x**2))\n",
    "print(\"Standard error of beta 0 and beta 1:\", (se_0, se_1))"
   ]
  },
  {
   "cell_type": "markdown",
   "metadata": {},
   "source": [
    "### Part c"
   ]
  },
  {
   "cell_type": "code",
   "execution_count": 99,
   "metadata": {},
   "outputs": [
    {
     "name": "stdout",
     "output_type": "stream",
     "text": [
      "95% CI at x = 5.5: (18.30396607108127, 22.90634642891873)\n"
     ]
    }
   ],
   "source": [
    "x0 = 5.5\n",
    "t_val = t.ppf(0.975, q6_n - 2)\n",
    "\n",
    "mu_hat = beta_0 + beta_1 * x0\n",
    "\n",
    "lower_ci = mu_hat - t_val * sqrt(\n",
    "    sigma_squared\n",
    "    * (1 / q6_n + (x0 - q6_xbar) ** 2 / ((q6_n - 1) * q6_s_x**2))\n",
    ")\n",
    "\n",
    "upper_ci = mu_hat + t_val * sqrt(\n",
    "    sigma_squared\n",
    "    * (1 / q6_n + (x0 - q6_xbar) ** 2 / ((q6_n - 1) * q6_s_x**2))\n",
    ")\n",
    "\n",
    "print(\"95% CI at x = 5.5:\", (lower_ci, upper_ci))"
   ]
  },
  {
   "cell_type": "markdown",
   "metadata": {},
   "source": [
    "## Problem 7"
   ]
  },
  {
   "cell_type": "code",
   "execution_count": 100,
   "metadata": {},
   "outputs": [],
   "source": [
    "ybar = 3.9\n",
    "s_y = sqrt(2.7)\n",
    "xbar = 10.6\n",
    "s_x = sqrt(34.2)\n",
    "n = 100"
   ]
  },
  {
   "cell_type": "markdown",
   "metadata": {},
   "source": [
    "### Part a"
   ]
  },
  {
   "cell_type": "code",
   "execution_count": 101,
   "metadata": {},
   "outputs": [
    {
     "name": "stdout",
     "output_type": "stream",
     "text": [
      "Slope variance: 0.00015870552853181467\n"
     ]
    }
   ],
   "source": [
    "beta_1 = (0.23 + 0.28) / 2\n",
    "beta_0 = ybar - beta_1 * xbar\n",
    "t_val = t.ppf(0.975, n - 2)\n",
    "slope_variance = ((0.28 - beta_1) / t_val)**2\n",
    "print(\"Slope variance:\", slope_variance)"
   ]
  },
  {
   "cell_type": "markdown",
   "metadata": {},
   "source": [
    "### Part b"
   ]
  },
  {
   "cell_type": "code",
   "execution_count": 102,
   "metadata": {},
   "outputs": [
    {
     "name": "stdout",
     "output_type": "stream",
     "text": [
      "Error variance: 0.5373451785030181\n"
     ]
    }
   ],
   "source": [
    "s_xx = (n - 1) * s_x**2\n",
    "error_variance = slope_variance * s_xx\n",
    "print(\"Error variance:\", error_variance)"
   ]
  },
  {
   "cell_type": "markdown",
   "metadata": {},
   "source": [
    "### Part c"
   ]
  },
  {
   "cell_type": "code",
   "execution_count": 103,
   "metadata": {},
   "outputs": [
    {
     "name": "stdout",
     "output_type": "stream",
     "text": [
      "Coefficient of determination: 0.8029935372491741\n"
     ]
    }
   ],
   "source": [
    "sse = error_variance * (n - 2)\n",
    "s_yy = (n - 1) * s_y**2\n",
    "R_squared = 1 - sse / s_yy\n",
    "print(\"Coefficient of determination:\", R_squared)"
   ]
  },
  {
   "cell_type": "markdown",
   "metadata": {},
   "source": [
    "### Part d"
   ]
  },
  {
   "cell_type": "code",
   "execution_count": 104,
   "metadata": {},
   "outputs": [
    {
     "name": "stdout",
     "output_type": "stream",
     "text": [
      "80% CI: (4.90342336057917, 5.14057663942083)\n"
     ]
    }
   ],
   "source": [
    "x0 = 15\n",
    "t_val = t.ppf(0.9, n - 2)\n",
    "std = sqrt(error_variance * (1 / n + (x0 - xbar) ** 2 / ((n - 1) * s_x**2)))\n",
    "fit_val = beta_0 + beta_1 * x0\n",
    "confidence_interval = (fit_val - t_val * std, fit_val + t_val * std)\n",
    "print(\"80% CI:\", confidence_interval)"
   ]
  },
  {
   "cell_type": "markdown",
   "metadata": {},
   "source": [
    "## Problem 8"
   ]
  },
  {
   "cell_type": "code",
   "execution_count": 105,
   "metadata": {},
   "outputs": [],
   "source": [
    "q8_np = np.genfromtxt(\"datafiles/streams.csv\", delimiter=\",\")[1:, :]\n",
    "x = q8_np[:, 1]\n",
    "y = q8_np[:, 0]\n",
    "n = len(q8_np)"
   ]
  },
  {
   "cell_type": "markdown",
   "metadata": {},
   "source": [
    "### Part a"
   ]
  },
  {
   "cell_type": "code",
   "execution_count": 106,
   "metadata": {},
   "outputs": [
    {
     "name": "stdout",
     "output_type": "stream",
     "text": [
      "Beta 0: 0.47046684615423195 Beta 1: 20.567305084026447\n"
     ]
    },
    {
     "data": {
      "image/png": "[encoded data removed]",
      "text/plain": [
       "<Figure size 640x480 with 1 Axes>"
      ]
     },
     "metadata": {},
     "output_type": "display_data"
    }
   ],
   "source": [
    "x_aug = np.concatenate(\n",
    "    (np.ones((n, 1), dtype=float), np.reshape(x, (-1, 1))), axis=1\n",
    ")\n",
    "\n",
    "# X'X b = X'y\n",
    "beta = np.linalg.solve(\n",
    "    np.matmul(np.transpose(x_aug), x_aug),\n",
    "    np.matmul(np.transpose(x_aug), np.reshape(y, (-1, 1))),\n",
    ")\n",
    "print(\"Beta 0:\", float(beta[0]), \"Beta 1:\", float(beta[1]))\n",
    "y_line = np.matmul(x_aug, beta)\n",
    "\n",
    "plt.scatter(x, y, label=\"Measurements\")\n",
    "plt.plot(x, y_line, color=\"tab:orange\", label=\"Trendline\")\n",
    "plt.title(\"Chloride Concentration vs Roadway Area\")\n",
    "plt.xlabel(\"Roadway Area (%)\")\n",
    "plt.ylabel(\"Chloride Concentration (mg/L)\")\n",
    "plt.legend(loc=\"upper left\")\n",
    "plt.show()"
   ]
  },
  {
   "cell_type": "markdown",
   "metadata": {},
   "source": [
    "### Part b"
   ]
  },
  {
   "cell_type": "code",
   "execution_count": 107,
   "metadata": {},
   "outputs": [
    {
     "name": "stdout",
     "output_type": "stream",
     "text": [
      "Sigma squared: 13.80919909653376\n"
     ]
    }
   ],
   "source": [
    "s_xy = np.sum((x - x.mean()) * (y - y.mean()))\n",
    "s_yy = np.sum((y - y.mean()) * (y - y.mean()))\n",
    "sse = s_yy - beta[1] * s_xy\n",
    "sigma_squared = sse / (n - 2)\n",
    "print(\"Sigma squared:\", float(sigma_squared))"
   ]
  },
  {
   "cell_type": "markdown",
   "metadata": {},
   "source": [
    "### Part c"
   ]
  },
  {
   "cell_type": "code",
   "execution_count": 108,
   "metadata": {},
   "outputs": [
    {
     "name": "stdout",
     "output_type": "stream",
     "text": [
      "y_hat(0.47): 10.137100235646662\n",
      "Residual at x = 0.47: 1.6628997643533392\n"
     ]
    }
   ],
   "source": [
    "idx = int(np.argwhere(x == 0.47)[0])\n",
    "y_fit = np.matmul(x_aug[idx, :], beta)\n",
    "residual = float(y[idx] - y_fit)\n",
    "\n",
    "print(\"y_hat(0.47):\", float(y_fit))\n",
    "print(\"Residual at x = 0.47:\", residual)"
   ]
  },
  {
   "cell_type": "markdown",
   "metadata": {},
   "source": [
    "## Problem 9"
   ]
  },
  {
   "cell_type": "code",
   "execution_count": 109,
   "metadata": {},
   "outputs": [],
   "source": [
    "q9_np = np.genfromtxt(\"datafiles/fish.csv\", delimiter=\",\")[1:, [4, 6]]\n",
    "length = q9_np[:, 0]\n",
    "ddt = q9_np[:, 1]\n",
    "n = len(ddt)"
   ]
  },
  {
   "cell_type": "markdown",
   "metadata": {},
   "source": [
    "### Part a"
   ]
  },
  {
   "cell_type": "code",
   "execution_count": 110,
   "metadata": {},
   "outputs": [
    {
     "data": {
      "image/png": "[encoded data removed]",
      "text/plain": [
       "<Figure size 640x480 with 1 Axes>"
      ]
     },
     "metadata": {},
     "output_type": "display_data"
    },
    {
     "data": {
      "image/png": "[encoded data removed]",
      "text/plain": [
       "<Figure size 640x480 with 1 Axes>"
      ]
     },
     "metadata": {},
     "output_type": "display_data"
    }
   ],
   "source": [
    "ln_ddt = np.log(ddt)\n",
    "normal_probability_plot(ddt)\n",
    "normal_probability_plot(ln_ddt)"
   ]
  },
  {
   "cell_type": "markdown",
   "metadata": {},
   "source": [
    "The first plot is of DDT concentration, and the second plot is of the natural log of DDT concentration."
   ]
  },
  {
   "cell_type": "markdown",
   "metadata": {},
   "source": [
    "### Part b"
   ]
  },
  {
   "cell_type": "code",
   "execution_count": 111,
   "metadata": {},
   "outputs": [
    {
     "name": "stdout",
     "output_type": "stream",
     "text": [
      "Regression parameters: (-2.797229811807774, 0.10964755292102174)\n",
      "Expected DDT concentration of 35cm long fish: 2.8304466906765318\n"
     ]
    }
   ],
   "source": [
    "x = np.concatenate([np.ones((n, 1)), length.reshape((-1, 1))], axis=1)\n",
    "beta = np.linalg.solve(\n",
    "    np.matmul(np.transpose(x), x),\n",
    "    np.matmul(np.transpose(x), ln_ddt.reshape((-1, 1))),\n",
    ")\n",
    "print(\"Regression parameters:\", (float(beta[0]), float(beta[1])))\n",
    "ddt_35 = exp(beta[0,0] + 35 * beta[1,0])\n",
    "print(\"Expected DDT concentration of 35cm long fish:\", ddt_35)"
   ]
  },
  {
   "cell_type": "code",
   "execution_count": 112,
   "metadata": {},
   "outputs": [
    {
     "data": {
      "image/png": "[encoded data removed]",
      "text/plain": [
       "<Figure size 640x480 with 1 Axes>"
      ]
     },
     "metadata": {},
     "output_type": "display_data"
    }
   ],
   "source": [
    "plt.scatter(length, ln_ddt, label=\"Measurements\")\n",
    "plt.plot(length, np.matmul(x, beta), color=\"tab:orange\", label=\"Trendline\")\n",
    "plt.xlabel(\"Length of Fish\")\n",
    "plt.ylabel(\"Natural Log of DDT Concentration\")\n",
    "plt.title(\"Natural Log of DDT Concentration vs Length\")\n",
    "plt.legend(loc=\"upper left\")\n",
    "plt.show()"
   ]
  },
  {
   "cell_type": "markdown",
   "metadata": {},
   "source": [
    "### Part c"
   ]
  },
  {
   "cell_type": "code",
   "execution_count": 113,
   "metadata": {},
   "outputs": [
    {
     "data": {
      "image/png": "[encoded data removed]",
      "text/plain": [
       "<Figure size 640x480 with 1 Axes>"
      ]
     },
     "metadata": {},
     "output_type": "display_data"
    }
   ],
   "source": [
    "y_hat = np.matmul(x, beta).flatten()\n",
    "residual = y_hat - ln_ddt.flatten()\n",
    "\n",
    "plt.scatter(y_hat, residual)\n",
    "plt.title(\"Residual vs Fitted Values\")\n",
    "plt.xlabel(\"Fitted Value\")\n",
    "plt.ylabel(\"Residual\")\n",
    "plt.show()"
   ]
  },
  {
   "cell_type": "markdown",
   "metadata": {},
   "source": [
    "The residuals appear to have a mean of 0 and a constant variance."
   ]
  },
  {
   "cell_type": "code",
   "execution_count": 114,
   "metadata": {},
   "outputs": [
    {
     "data": {
      "image/png": "[encoded data removed]",
      "text/plain": [
       "<Figure size 640x480 with 1 Axes>"
      ]
     },
     "metadata": {},
     "output_type": "display_data"
    }
   ],
   "source": [
    "normal_probability_plot(residual)"
   ]
  },
  {
   "cell_type": "markdown",
   "metadata": {},
   "source": [
    "Looking at the probability plot, we see that the data is normally distributed"
   ]
  },
  {
   "cell_type": "markdown",
   "metadata": {},
   "source": [
    "### Part d"
   ]
  },
  {
   "cell_type": "code",
   "execution_count": 115,
   "metadata": {},
   "outputs": [
    {
     "name": "stdout",
     "output_type": "stream",
     "text": [
      "P-value: 1.773627156620052e-11\n"
     ]
    }
   ],
   "source": [
    "sse = np.dot(residual, residual)\n",
    "sigma_squared = sse / (n - 2)\n",
    "xbar = length.mean()\n",
    "sxx = np.dot(length - xbar, length - xbar)\n",
    "t0 = float(beta[1] / sqrt(sigma_squared / sxx))\n",
    "p = 2*t.sf(t0, n-2)\n",
    "\n",
    "print(\"P-value:\", p)"
   ]
  },
  {
   "cell_type": "markdown",
   "metadata": {},
   "source": [
    "Because P-value is less than $\\alpha = 0.05$, we can reject the null hypothesis and claim that the regression shows a linear trend in the data"
   ]
  },
  {
   "cell_type": "markdown",
   "metadata": {},
   "source": [
    "### Part e"
   ]
  },
  {
   "cell_type": "code",
   "execution_count": 116,
   "metadata": {},
   "outputs": [
    {
     "name": "stdout",
     "output_type": "stream",
     "text": [
      "95% CI for intercept: (-4.082778940381235, -1.511680683234313)\n"
     ]
    }
   ],
   "source": [
    "t_val = t.ppf(0.975, n-2)\n",
    "lower_ci = beta[0] - t_val * sqrt(sigma_squared*(1/n + xbar**2 / sxx))\n",
    "upper_ci = beta[0] + t_val * sqrt(sigma_squared*(1/n + xbar**2 / sxx))\n",
    "\n",
    "print(\"95% CI for intercept:\", (float(lower_ci), float(upper_ci)))"
   ]
  },
  {
   "cell_type": "markdown",
   "metadata": {},
   "source": [
    "If the confidence interval included 0, then it would mean that there is no significant offset in the relationship between the natural log of DDT and fish length."
   ]
  }
 ],
 "metadata": {
  "kernelspec": {
   "display_name": "Python 3",
   "language": "python",
   "name": "python3"
  },
  "language_info": {
   "codemirror_mode": {
    "name": "ipython",
    "version": 3
   },
   "file_extension": ".py",
   "mimetype": "text/x-python",
   "name": "python",
   "nbconvert_exporter": "python",
   "pygments_lexer": "ipython3",
   "version": "3.8.10"
  }
 },
 "nbformat": 4,
 "nbformat_minor": 2
}
